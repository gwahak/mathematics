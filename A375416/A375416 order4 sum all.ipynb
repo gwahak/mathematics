{
 "cells": [
  {
   "cell_type": "markdown",
   "metadata": {},
   "source": [
    "## order 4 magic triangles"
   ]
  },
  {
   "cell_type": "code",
   "execution_count": 2,
   "metadata": {},
   "outputs": [],
   "source": [
    "import itertools\n"
   ]
  },
  {
   "cell_type": "code",
   "execution_count": 3,
   "metadata": {},
   "outputs": [],
   "source": [
    "#we will use 1~16 and partition the 4x4 triangles into four 2x2 subtriangles.\n",
    "#Then, we will assign four integers to each subtriangle without regarding internal order.\n",
    "#Firstly, we will neglect equivalent figures due to rotation and reflection and corner swap, \n",
    "# which is a swapping between a corner triangle and an edge-adjacent triangle "
   ]
  },
  {
   "cell_type": "code",
   "execution_count": 4,
   "metadata": {},
   "outputs": [],
   "source": [
    "#             o\n",
    "#            / \\ \n",
    "#           o-- o\n",
    "#          / \\ / \\ \n",
    "#        o-- o-- o\n",
    "#       / \\ / \\ / \\ \n",
    "#      o-- o-- o-- o\n",
    "#     / \\ / \\ / \\ / \\ \n",
    "#    o---o---o-- o-- o"
   ]
  },
  {
   "cell_type": "code",
   "execution_count": 5,
   "metadata": {},
   "outputs": [],
   "source": [
    "#             o\n",
    "#            /b\\ \n",
    "#           o-- o\n",
    "#          /b\\b/b\\ \n",
    "#        o-- o-- o\n",
    "#       /d\\a/a\\a/c\\ \n",
    "#      o-- o-- o-- o\n",
    "#     /d\\d/d\\a/c\\c/c\\ \n",
    "#    o---o---o-- o-- o"
   ]
  },
  {
   "cell_type": "code",
   "execution_count": 6,
   "metadata": {},
   "outputs": [
    {
     "name": "stdout",
     "output_type": "stream",
     "text": [
      "2064\n"
     ]
    }
   ],
   "source": [
    "i=0\n",
    "for A in itertools.permutations(range(1,17), 4):\n",
    "    if A[0]+A[1]+A[2]+A[3]==34:\n",
    "        #print(A,34)\n",
    "        i+=1\n",
    "print(i)"
   ]
  },
  {
   "cell_type": "code",
   "execution_count": 7,
   "metadata": {},
   "outputs": [],
   "source": [
    "# Firstly, we will find the number of ways to sellect four numbers from 1~16 which sum is 34."
   ]
  },
  {
   "cell_type": "code",
   "execution_count": 8,
   "metadata": {},
   "outputs": [
    {
     "name": "stdout",
     "output_type": "stream",
     "text": [
      "86\n"
     ]
    }
   ],
   "source": [
    "\n",
    "i=0\n",
    "for A in itertools.combinations(range(1,17), 4):\n",
    "    if A[0]+A[1]+A[2]+A[3]==34:\n",
    "        #print(A,34)\n",
    "        i+=1\n",
    "print(i)\n",
    "group4=i"
   ]
  },
  {
   "cell_type": "code",
   "execution_count": 9,
   "metadata": {},
   "outputs": [],
   "source": [
    "#There are 86 ways. we will save the results and \n",
    "#find the number of ways to sellect find the number of ways to sellect 8 numbers from 1~16 which are partioned into two groups and group sums are 34.\n",
    "#intra-group order is ignored but inter-group order is not ignored.\n"
   ]
  },
  {
   "cell_type": "code",
   "execution_count": 10,
   "metadata": {},
   "outputs": [
    {
     "data": {
      "text/plain": [
       "54700816"
      ]
     },
     "execution_count": 10,
     "metadata": {},
     "output_type": "execute_result"
    }
   ],
   "source": [
    "pow(86,4)"
   ]
  },
  {
   "cell_type": "code",
   "execution_count": 11,
   "metadata": {},
   "outputs": [],
   "source": [
    "import numpy as np\n",
    "XX=np.zeros([group4,4],dtype=int)"
   ]
  },
  {
   "cell_type": "code",
   "execution_count": 12,
   "metadata": {},
   "outputs": [
    {
     "name": "stdout",
     "output_type": "stream",
     "text": [
      "86\n"
     ]
    }
   ],
   "source": [
    "XX=np.zeros([group4,4],dtype=int)\n",
    "i=0\n",
    "for A in itertools.combinations(range(1,17), 4):\n",
    "    if A[0]+A[1]+A[2]+A[3]==34:\n",
    "        XX[i]=A\n",
    "        i+=1\n",
    "print(i)"
   ]
  },
  {
   "cell_type": "code",
   "execution_count": 13,
   "metadata": {},
   "outputs": [
    {
     "name": "stdout",
     "output_type": "stream",
     "text": [
      "2150\n"
     ]
    }
   ],
   "source": [
    "k=0\n",
    "for i in range(group4):\n",
    "    for j in range(group4):\n",
    "        if len(set(list(XX[i])+list(XX[j])))==8:\n",
    "            #print(i,j)\n",
    "            k+=1\n",
    "print(k)\n",
    "group8=k"
   ]
  },
  {
   "cell_type": "code",
   "execution_count": 14,
   "metadata": {},
   "outputs": [
    {
     "name": "stdout",
     "output_type": "stream",
     "text": [
      "2150\n"
     ]
    }
   ],
   "source": [
    "AAA8=np.zeros([group8,8],dtype=int)\n",
    "AAA2=np.zeros([group8,2],dtype=int)\n",
    "k=0\n",
    "for i in range(group4):\n",
    "    for j in range(group4):\n",
    "        if len(set(list(XX[i])+list(XX[j])))==8:\n",
    "            AAA2[k,:]=np.array([i,j],dtype=int)\n",
    "            AAA8[k,0:4]=XX[i]\n",
    "            AAA8[k,4:8]=XX[j]\n",
    "            k+=1\n",
    "print(k)"
   ]
  },
  {
   "cell_type": "code",
   "execution_count": 15,
   "metadata": {},
   "outputs": [
    {
     "data": {
      "text/plain": [
       "array([ 7,  8,  9, 10])"
      ]
     },
     "execution_count": 15,
     "metadata": {},
     "output_type": "execute_result"
    }
   ],
   "source": [
    "XX[j]"
   ]
  },
  {
   "cell_type": "code",
   "execution_count": 16,
   "metadata": {},
   "outputs": [
    {
     "data": {
      "text/plain": [
       "array([[ 1,  2, 15, ...,  4, 13, 14],\n",
       "       [ 1,  2, 15, ...,  5, 12, 14],\n",
       "       [ 1,  2, 15, ...,  6, 11, 14],\n",
       "       ...,\n",
       "       [ 7,  8,  9, ...,  5, 12, 13],\n",
       "       [ 7,  8,  9, ...,  6, 11, 13],\n",
       "       [ 7,  8,  9, ...,  6, 11, 12]])"
      ]
     },
     "execution_count": 16,
     "metadata": {},
     "output_type": "execute_result"
    }
   ],
   "source": [
    "AAA8"
   ]
  },
  {
   "cell_type": "code",
   "execution_count": 17,
   "metadata": {},
   "outputs": [],
   "source": [
    "#find the number of ways to sellect find the number of ways to sellect 16 numbers from 1~16 which are partioned into 4 groups and group sums are 34.\n",
    "#intra-group order is ignored but inter-group order is not ignored.\n"
   ]
  },
  {
   "cell_type": "code",
   "execution_count": 18,
   "metadata": {},
   "outputs": [
    {
     "name": "stdout",
     "output_type": "stream",
     "text": [
      "9408\n"
     ]
    }
   ],
   "source": [
    "\n",
    "k=0\n",
    "for i in range(group8):\n",
    "    for j in range(group8):\n",
    "        if len(set(list(AAA8[i])+list(AAA8[j])))==16:\n",
    "            k+=1\n",
    "print(k)\n",
    "group16=k"
   ]
  },
  {
   "cell_type": "code",
   "execution_count": 19,
   "metadata": {},
   "outputs": [
    {
     "data": {
      "text/plain": [
       "array([[ 0, 40],\n",
       "       [ 0, 43],\n",
       "       [ 0, 46],\n",
       "       ...,\n",
       "       [85, 59],\n",
       "       [85, 63],\n",
       "       [85, 75]])"
      ]
     },
     "execution_count": 19,
     "metadata": {},
     "output_type": "execute_result"
    }
   ],
   "source": [
    "AAA2"
   ]
  },
  {
   "cell_type": "code",
   "execution_count": null,
   "metadata": {},
   "outputs": [],
   "source": []
  },
  {
   "cell_type": "code",
   "execution_count": 20,
   "metadata": {},
   "outputs": [
    {
     "data": {
      "text/plain": [
       "65028096"
      ]
     },
     "execution_count": 20,
     "metadata": {},
     "output_type": "execute_result"
    }
   ],
   "source": [
    "group16*pow(12,3)*4"
   ]
  },
  {
   "cell_type": "code",
   "execution_count": 21,
   "metadata": {},
   "outputs": [],
   "source": [
    "#for first group, we can pick the central number and other numbers in the group are fixed by  disregarding rotation and reflection, \n",
    "#for other groups, they are fixed in corner swap, \n",
    "# which is a swapping between a corner triangle and an edge-adjacent triangle "
   ]
  },
  {
   "cell_type": "code",
   "execution_count": 22,
   "metadata": {},
   "outputs": [
    {
     "name": "stdout",
     "output_type": "stream",
     "text": [
      "9408\n"
     ]
    }
   ],
   "source": [
    "k=0\n",
    "AAAA=np.zeros([group16,16],dtype=int)\n",
    "AAAA4=np.zeros([group16,4],dtype=int)\n",
    "for i in range(group8):\n",
    "    for j in range(group8):\n",
    "        if len(set(list(AAA8[i])+list(AAA8[j])))==16:\n",
    "            AAAA4[k,0:2]=AAA2[i]\n",
    "            AAAA4[k,2:4]=AAA2[j]\n",
    "            AAAA[k,0:8]=AAA8[i]\n",
    "            AAAA[k,8:16]=AAA8[j]\n",
    "            k+=1\n",
    "print(k)"
   ]
  },
  {
   "cell_type": "code",
   "execution_count": null,
   "metadata": {},
   "outputs": [],
   "source": []
  },
  {
   "cell_type": "code",
   "execution_count": 23,
   "metadata": {},
   "outputs": [],
   "source": [
    "\n",
    "permute1=np.zeros([24,4],dtype=int)\n",
    "i=0\n",
    "for j in itertools.permutations(range(4), 4):\n",
    "    permute1[i,:]=j\n",
    "    i+=1"
   ]
  },
  {
   "cell_type": "code",
   "execution_count": 24,
   "metadata": {},
   "outputs": [],
   "source": [
    "#making more efficient iterator by disregarding corner swap\n",
    "permute0=permute1[range(0,24,2)]"
   ]
  },
  {
   "cell_type": "code",
   "execution_count": 25,
   "metadata": {},
   "outputs": [
    {
     "data": {
      "text/plain": [
       "array([[0, 1, 2, 3],\n",
       "       [0, 2, 1, 3],\n",
       "       [0, 3, 1, 2],\n",
       "       [1, 0, 2, 3],\n",
       "       [1, 2, 0, 3],\n",
       "       [1, 3, 0, 2],\n",
       "       [2, 0, 1, 3],\n",
       "       [2, 1, 0, 3],\n",
       "       [2, 3, 0, 1],\n",
       "       [3, 0, 1, 2],\n",
       "       [3, 1, 0, 2],\n",
       "       [3, 2, 0, 1]])"
      ]
     },
     "execution_count": 25,
     "metadata": {},
     "output_type": "execute_result"
    }
   ],
   "source": [
    "permute0"
   ]
  },
  {
   "cell_type": "code",
   "execution_count": 26,
   "metadata": {},
   "outputs": [],
   "source": [
    "#making more efficient iterator by disregarding ratation and reflection"
   ]
  },
  {
   "cell_type": "code",
   "execution_count": 27,
   "metadata": {},
   "outputs": [],
   "source": [
    "permute4=permute1[range(0,24,6)]"
   ]
  },
  {
   "cell_type": "code",
   "execution_count": 28,
   "metadata": {},
   "outputs": [
    {
     "data": {
      "text/plain": [
       "array([[0, 1, 2, 3],\n",
       "       [1, 0, 2, 3],\n",
       "       [2, 0, 1, 3],\n",
       "       [3, 0, 1, 2]])"
      ]
     },
     "execution_count": 28,
     "metadata": {},
     "output_type": "execute_result"
    }
   ],
   "source": [
    "permute4"
   ]
  },
  {
   "cell_type": "code",
   "execution_count": 29,
   "metadata": {},
   "outputs": [],
   "source": [
    "#for central triangle, there are 4 ways to arrange numbers to neglect equivalent figures due to rotation and reflection\n",
    "#for other triangle, there are 12 ways to arrange numbers to neglect equivalent figures due to corner swap."
   ]
  },
  {
   "cell_type": "code",
   "execution_count": 30,
   "metadata": {},
   "outputs": [],
   "source": [
    "#group number\n",
    "#             o\n",
    "#            /1\\ \n",
    "#           o-- o\n",
    "#          /1\\1/1\\ \n",
    "#        x-- o-- y\n",
    "#       /3\\0/0\\0/2\\ \n",
    "#      o-- o-- o-- o\n",
    "#     /3\\3/3\\0/2\\2/2\\ \n",
    "#    o---o---z-- o-- o"
   ]
  },
  {
   "cell_type": "code",
   "execution_count": 31,
   "metadata": {},
   "outputs": [],
   "source": [
    "# internal number\n",
    "#             1\n",
    "#            / \\ \n",
    "#           o-- o\n",
    "#          /0\\ /1\\ \n",
    "#        x-- o-- y\n",
    "#       /1\\2/0\\3/0\\ \n",
    "#      o-- o-- o-- o\n",
    "#     / \\ /0\\1/1\\ / \\ \n",
    "#    3---o---z-- o-- 2"
   ]
  },
  {
   "cell_type": "code",
   "execution_count": 32,
   "metadata": {},
   "outputs": [
    {
     "name": "stdout",
     "output_type": "stream",
     "text": [
      "[16  1  4 13] [ 6  2 11 15] [ 3 10  9 12] [ 7  8  5 14]\n",
      "4792\n"
     ]
    }
   ],
   "source": [
    "lens=0\n",
    "for i in range(len(AAAA)):\n",
    "    for j in range(4):\n",
    "        temp0=AAAA[i,0:4][permute4[j]]\n",
    "        for k in range(12):\n",
    "            temp1=AAAA[i,4:8][permute0[k]]\n",
    "            for l in range(12):\n",
    "                temp2=AAAA[i,8:12][permute0[l]]\n",
    "                for m in range(12):\n",
    "                    temp3=AAAA[i,12:16][permute0[m]]\n",
    "                    x=temp0[0]+temp0[2]+temp1[0]+temp3[1]\n",
    "                    y=temp0[0]+temp0[3]+temp2[0]+temp1[1]\n",
    "                    z=temp0[0]+temp0[1]+temp3[0]+temp2[1]\n",
    "                    if x == 34 and y == 34 and z == 34:\n",
    "                        if lens==0:\n",
    "                            print(temp0,temp1,temp2,temp3)\n",
    "                        lens+=1\n",
    "print(lens)"
   ]
  },
  {
   "cell_type": "code",
   "execution_count": 33,
   "metadata": {},
   "outputs": [
    {
     "name": "stdout",
     "output_type": "stream",
     "text": [
      "total number for order 4 magic triangle(disregarding corner swap): 4792\n"
     ]
    }
   ],
   "source": [
    "print(\"total number for order 4 magic triangle(disregarding corner swap):\", lens)"
   ]
  },
  {
   "cell_type": "code",
   "execution_count": 34,
   "metadata": {},
   "outputs": [],
   "source": [
    "#If we think that swapping between a corner triangle and an edge-adjacent triangle generate different examples, the counts should be eight times as large."
   ]
  },
  {
   "cell_type": "code",
   "execution_count": 35,
   "metadata": {},
   "outputs": [
    {
     "name": "stdout",
     "output_type": "stream",
     "text": [
      "total number for order 4 magic triangle(regarding corner swap): 38336\n"
     ]
    }
   ],
   "source": [
    "print(\"total number for order 4 magic triangle(regarding corner swap):\", lens*8)"
   ]
  },
  {
   "cell_type": "code",
   "execution_count": null,
   "metadata": {},
   "outputs": [],
   "source": []
  },
  {
   "cell_type": "code",
   "execution_count": null,
   "metadata": {},
   "outputs": [],
   "source": []
  }
 ],
 "metadata": {
  "kernelspec": {
   "display_name": "Python 3 (ipykernel)",
   "language": "python",
   "name": "python3"
  },
  "language_info": {
   "codemirror_mode": {
    "name": "ipython",
    "version": 3
   },
   "file_extension": ".py",
   "mimetype": "text/x-python",
   "name": "python",
   "nbconvert_exporter": "python",
   "pygments_lexer": "ipython3",
   "version": "3.12.4"
  }
 },
 "nbformat": 4,
 "nbformat_minor": 4
}
