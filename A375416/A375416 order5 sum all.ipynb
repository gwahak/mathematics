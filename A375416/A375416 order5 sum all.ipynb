{
 "cells": [
  {
   "cell_type": "markdown",
   "metadata": {},
   "source": [
    "## order 5 magic triangles"
   ]
  },
  {
   "cell_type": "markdown",
   "metadata": {},
   "source": [
    "# background"
   ]
  },
  {
   "cell_type": "code",
   "execution_count": null,
   "metadata": {},
   "outputs": [],
   "source": [
    "#This enumeration does not count the corner swap, which means swapping between a corner triangle and an edge-adjacent triangle."
   ]
  },
  {
   "cell_type": "code",
   "execution_count": 3,
   "metadata": {},
   "outputs": [],
   "source": [
    "#             o\n",
    "#            /w\\ \n",
    "#           o-- o\n",
    "#          /b\\w/b\\ \n",
    "#        o-- o-- o\n",
    "#       /e\\ / \\ /e\\ \n",
    "#      o-- o-- o-- o\n",
    "#     /b\\ / \\a/ \\ /b\\ \n",
    "#    o---o---o-- o-- o\n",
    "#   /w\\w/b\\ /e\\ /b\\c/c\\ \n",
    "#  o---o---o---o-- o-- o\n",
    "\n",
    "#1~25 are used. sum of 25 numbers are 25*13=325"
   ]
  },
  {
   "cell_type": "code",
   "execution_count": 4,
   "metadata": {},
   "outputs": [],
   "source": [
    "#(1)\n",
    "#             o\n",
    "#            / \\ \n",
    "#           o-- o\n",
    "#          /1\\ /1\\ \n",
    "#        o-- o-- o\n",
    "#       /2\\1/2\\1/2\\ \n",
    "#      o-- o-- o-- o\n",
    "#     /1\\1/2\\ /2\\1/1\\ \n",
    "#    o---o---o-- o-- o\n",
    "#   / \\ /1\\1/2\\1/1\\ / \\ \n",
    "#  o---o---o---o-- o-- o\n",
    "# total sum: 6*sum\n",
    "\n",
    "#(2)\n",
    "#             o\n",
    "#            /1\\ \n",
    "#           o-- o\n",
    "#          /1\\1/1\\ \n",
    "#        o-- o-- o\n",
    "#       / \\1/1\\1/ \\ \n",
    "#      o-- o-- o-- o\n",
    "#     /1\\1/1\\3/1\\1/1\\ \n",
    "#    o---o---o-- o-- o\n",
    "#   /1\\1/1\\1/ \\1/1\\1/1\\ \n",
    "#  o---o---o---o-- o-- o\n",
    "# total sum: 6*sum\n",
    "\n",
    "#(3)\n",
    "#             o\n",
    "#            /1\\ \n",
    "#           o-- o\n",
    "#          /1\\1/1\\ \n",
    "#        o-- o-- o\n",
    "#       /1\\1/1\\1/1\\ \n",
    "#      o-- o-- o-- o\n",
    "#     /1\\1/1\\1/1\\1/1\\ \n",
    "#    o---o---o-- o-- o\n",
    "#   /1\\1/1\\1/1\\1/1\\1/1\\ \n",
    "#  o---o---o---o-- o-- o\n",
    "# total sum: 25*13=325\n",
    "\n",
    "#(2)-(3)\n",
    "#$ means -1\n",
    "\n",
    "#             o\n",
    "#            / \\ \n",
    "#           o-- o\n",
    "#          / \\ / \\ \n",
    "#        o-- o-- o\n",
    "#       /$\\ / \\ /$\\ \n",
    "#      o-- o-- o-- o\n",
    "#     / \\ / \\2/ \\ / \\ \n",
    "#    o---o---o-- o-- o\n",
    "#   / \\ / \\ /$\\ / \\ / \\ \n",
    "#  o---o---o---o-- o-- o\n",
    "# total sum: 6*sum-25*13\n",
    "\n",
    "#(2)-(3)+(1)\n",
    "#$ means -1\n",
    "\n",
    "#             o\n",
    "#            / \\ \n",
    "#           o-- o\n",
    "#          /1\\ /1\\ \n",
    "#        o-- o-- o\n",
    "#       /1\\1/2\\1/1\\ \n",
    "#      o-- o-- o-- o\n",
    "#     /1\\1/2\\2/2\\1/1\\ \n",
    "#    o---o---o-- o-- o\n",
    "#   / \\ /1\\1/1\\1/1\\ / \\ \n",
    "#  o---o---o---o-- o-- o\n",
    "# total sum: 12*sum-25*13\n",
    "\n",
    "# (4): if we subtract central 2x2 subtriangle from (2)-(3)+(1):\n",
    "\n",
    "#             o\n",
    "#            / \\ \n",
    "#           o-- o\n",
    "#          /1\\ /1\\ \n",
    "#        o-- o-- o\n",
    "#       /1\\1/1\\1/1\\ \n",
    "#      o-- o-- o-- o\n",
    "#     /1\\1/1\\1/1\\1/1\\ \n",
    "#    o---o---o-- o-- o\n",
    "#   / \\ /1\\1/1\\1/1\\ / \\ \n",
    "#  o---o---o---o-- o-- o\n",
    "# total sum: 11*sum-25*13\n",
    "\n",
    "#(3)-(4)\n",
    "\n",
    "#             o\n",
    "#            /1\\ \n",
    "#           o-- o\n",
    "#          / \\1/ \\ \n",
    "#        o-- o-- o\n",
    "#       / \\ / \\ / \\ \n",
    "#      o-- o-- o-- o\n",
    "#     / \\ / \\/ \\ / \\ \n",
    "#    o---o---o-- o-- o\n",
    "#   /1\\1/ \\ / \\ / \\1/1\\ \n",
    "#  o---o---o---o-- o-- o\n",
    "# total sum: 26*25-11*sum\n",
    "\n",
    "# (5) sum of corner subtriangles\n",
    "#             o\n",
    "#            /1\\ \n",
    "#           o-- o\n",
    "#          /1\\1/1\\ \n",
    "#        o-- o-- o\n",
    "#       / \\ / \\ / \\ \n",
    "#      o-- o-- o-- o\n",
    "#     /1\\ / \\ / \\ /1\\ \n",
    "#    o---o---o-- o-- o\n",
    "#   /1\\1/1\\ / \\ /1\\1/1\\ \n",
    "#  o---o---o---o-- o-- o\n",
    "#total sum: 3*sum\n",
    "\n",
    "#(5)-(3)+(4)\n",
    "#             o\n",
    "#            / \\ \n",
    "#           o-- o\n",
    "#          /1\\ /1\\ \n",
    "#        o-- o-- o\n",
    "#       / \\ / \\ / \\ \n",
    "#      o-- o-- o-- o\n",
    "#     /1\\ / \\ / \\ /1\\ \n",
    "#    o---o---o-- o-- o\n",
    "#   / \\ /1\\ / \\ /1\\ / \\ \n",
    "#  o---o---o---o-- o-- o\n",
    "#total sum = 14*sum-26*25\n",
    "\n",
    "#sum of six numbers in 1~25 should be in sums(1 to 6) ~ sums(20 ~ 25)\n",
    "# magic sum should be 48 to 56\n",
    "#WLOG, finding solutions for 52,53,54,55, 56 is enough\n"
   ]
  },
  {
   "cell_type": "code",
   "execution_count": 5,
   "metadata": {},
   "outputs": [],
   "source": [
    "\n",
    "#2a-3e=sum*6-25*13\n",
    "#6b=14*sum-26*25"
   ]
  },
  {
   "cell_type": "code",
   "execution_count": 6,
   "metadata": {},
   "outputs": [],
   "source": [
    "import itertools\n",
    "import numpy as np"
   ]
  },
  {
   "cell_type": "markdown",
   "metadata": {},
   "source": [
    "# sum 56"
   ]
  },
  {
   "cell_type": "code",
   "execution_count": 8,
   "metadata": {},
   "outputs": [],
   "source": [
    "#             o\n",
    "#            / \\ \n",
    "#           o-- o\n",
    "#          /1\\ /1\\ \n",
    "#        o-- o-- o\n",
    "#       / \\ / \\ / \\ \n",
    "#      o-- o-- o-- o\n",
    "#     /1\\ / \\ / \\ /1\\ \n",
    "#    o---o---o-- o-- o\n",
    "#   / \\ /1\\ / \\ /1\\ / \\ \n",
    "#  o---o---o---o-- o-- o\n",
    "#total sum = 14*sum-26*25=134\n",
    "\n",
    "#$ means -1\n",
    "\n",
    "#             o\n",
    "#            / \\ \n",
    "#           o-- o\n",
    "#          / \\ / \\ \n",
    "#        o-- o-- o\n",
    "#       /$\\ / \\ /$\\ \n",
    "#      o-- o-- o-- o\n",
    "#     / \\ / \\2/ \\ / \\ \n",
    "#    o---o---o-- o-- o\n",
    "#   / \\ / \\ /$\\ / \\ / \\ \n",
    "#  o---o---o---o-- o-- o\n",
    "# total sum: 6*sum-25*13 = 11"
   ]
  },
  {
   "cell_type": "code",
   "execution_count": 9,
   "metadata": {},
   "outputs": [],
   "source": [
    "#np.random.permutation(range(1,26))"
   ]
  },
  {
   "cell_type": "code",
   "execution_count": null,
   "metadata": {},
   "outputs": [],
   "source": []
  },
  {
   "cell_type": "code",
   "execution_count": 10,
   "metadata": {},
   "outputs": [],
   "source": [
    "sum=56"
   ]
  },
  {
   "cell_type": "code",
   "execution_count": 11,
   "metadata": {},
   "outputs": [],
   "source": [
    "#             o\n",
    "#            / \\ \n",
    "#           o-- o\n",
    "#          /b\\ /b\\ \n",
    "#        o-- o-- o\n",
    "#       /a\\ / \\ /a\\ \n",
    "#      o-- o-- o-- o\n",
    "#     /b\\ / \\a/ \\ /b\\ \n",
    "#    o---o---o-- o-- o\n",
    "#   / \\ /b\\ /a\\ /b\\ / \\ \n",
    "#  o---o---o---o-- o-- o"
   ]
  },
  {
   "cell_type": "code",
   "execution_count": 12,
   "metadata": {},
   "outputs": [
    {
     "name": "stdout",
     "output_type": "stream",
     "text": [
      "566\n"
     ]
    }
   ],
   "source": [
    "i=0\n",
    "for A in itertools.permutations(range(1,26), 4):\n",
    "    if A[0]*2==A[1]+A[2]+A[3]+11 and A[1]>A[2] and A[2]>A[3]:\n",
    "        #print(A)\n",
    "        i+=1\n",
    "print(i)\n",
    "i56=i"
   ]
  },
  {
   "cell_type": "code",
   "execution_count": null,
   "metadata": {},
   "outputs": [],
   "source": []
  },
  {
   "cell_type": "code",
   "execution_count": 13,
   "metadata": {},
   "outputs": [
    {
     "name": "stdout",
     "output_type": "stream",
     "text": [
      "566\n"
     ]
    }
   ],
   "source": [
    "As=np.zeros([i56,4],dtype=int)\n",
    "i=0\n",
    "for A in itertools.permutations(range(1,26), 4):\n",
    "    if A[0]*2==A[1]+A[2]+A[3]+11 and A[1]>A[2] and A[2]>A[3]:\n",
    "        #print(A)\n",
    "        As[i,:]=A\n",
    "        i+=1\n",
    "print(i)"
   ]
  },
  {
   "cell_type": "code",
   "execution_count": 14,
   "metadata": {},
   "outputs": [
    {
     "name": "stdout",
     "output_type": "stream",
     "text": [
      "1\n"
     ]
    }
   ],
   "source": [
    "j=0\n",
    "for B in itertools.combinations(range(1,26), 6):\n",
    "    if np.sum(B)==134:\n",
    "        j+=1\n",
    "print(j)\n",
    "j56=j"
   ]
  },
  {
   "cell_type": "code",
   "execution_count": null,
   "metadata": {},
   "outputs": [],
   "source": []
  },
  {
   "cell_type": "code",
   "execution_count": 15,
   "metadata": {},
   "outputs": [
    {
     "name": "stdout",
     "output_type": "stream",
     "text": [
      "1\n"
     ]
    }
   ],
   "source": [
    "Bs=np.zeros([j56,6],dtype=int)\n",
    "j=0\n",
    "for B in itertools.combinations(range(1,26), 6):\n",
    "    if np.sum(B)==134:\n",
    "        Bs[j,:]=B\n",
    "        j+=1\n",
    "print(j)\n",
    "j56=j"
   ]
  },
  {
   "cell_type": "code",
   "execution_count": 16,
   "metadata": {},
   "outputs": [
    {
     "name": "stdout",
     "output_type": "stream",
     "text": [
      "188\n"
     ]
    }
   ],
   "source": [
    "z=0\n",
    "for x in range(i56):\n",
    "    for y in range(j56):\n",
    "        if len(set(As[x,:]) | set(Bs[y,:]))==10:\n",
    "            #print(x,y)\n",
    "            z+=1\n",
    "print(z)\n",
    "z56=z"
   ]
  },
  {
   "cell_type": "code",
   "execution_count": 17,
   "metadata": {},
   "outputs": [
    {
     "name": "stdout",
     "output_type": "stream",
     "text": [
      "188\n"
     ]
    }
   ],
   "source": [
    "Zs=np.zeros([z56,2],dtype=int)\n",
    "Zlist=np.zeros([z56,10],dtype=int)\n",
    "z=0\n",
    "for x in range(i56):\n",
    "    for y in range(j56):\n",
    "        if len(set(As[x,:]) | set(Bs[y,:]))==10:\n",
    "            Zlist[z,0:4]=As[x,:]\n",
    "            Zlist[z,4:10]=Bs[y,:]\n",
    "            Zs[z,:]=[x,y]\n",
    "            z+=1\n",
    "print(z)"
   ]
  },
  {
   "cell_type": "code",
   "execution_count": 18,
   "metadata": {},
   "outputs": [
    {
     "data": {
      "text/plain": [
       "array([[ 9,  4,  2, ..., 23, 24, 25],\n",
       "       [10,  4,  3, ..., 23, 24, 25],\n",
       "       [10,  5,  3, ..., 23, 24, 25],\n",
       "       ...,\n",
       "       [20, 18,  8, ..., 23, 24, 25],\n",
       "       [20, 18,  9, ..., 23, 24, 25],\n",
       "       [20, 18, 10, ..., 23, 24, 25]])"
      ]
     },
     "execution_count": 18,
     "metadata": {},
     "output_type": "execute_result"
    }
   ],
   "source": [
    "Zlist"
   ]
  },
  {
   "cell_type": "code",
   "execution_count": 19,
   "metadata": {
    "scrolled": true
   },
   "outputs": [
    {
     "name": "stdout",
     "output_type": "stream",
     "text": [
      "[11  5  4  2] (24, 21, 22, 19, 25, 23) [14, 13, 18, 10, 20, 15, 17, 12, 16] {1, 3, 6, 7, 8, 9} (8, 3, 9, 6, 7, 1)\n",
      "[11  6  3  2] (22, 24, 21, 23, 19, 25) [16, 12, 17, 14, 18, 13, 20, 15, 10] {1, 4, 5, 7, 8, 9} (9, 1, 7, 5, 8, 4)\n",
      "[11  6  3  2] (22, 24, 21, 23, 19, 25) [16, 12, 17, 14, 18, 13, 20, 15, 10] {1, 4, 5, 7, 8, 9} (9, 1, 8, 4, 7, 5)\n",
      "[11  6  3  2] (25, 21, 24, 23, 19, 22) [13, 12, 20, 14, 15, 16, 17, 18, 10] {1, 4, 5, 7, 8, 9} (9, 1, 5, 4, 8, 7)\n",
      "[11  6  4  1] (22, 25, 19, 23, 24, 21) [18, 10, 17, 13, 20, 12, 16, 15, 14] {2, 3, 5, 7, 8, 9} (7, 2, 9, 5, 8, 3)\n",
      "[11  8  2  1] (19, 21, 22, 24, 25, 23) [12, 17, 16, 14, 18, 13, 20, 10, 15] {3, 4, 5, 6, 7, 9} (9, 7, 6, 4, 5, 3)\n",
      "[11  8  2  1] (21, 19, 25, 24, 22, 23) [10, 17, 18, 14, 15, 16, 20, 13, 12] {3, 4, 5, 6, 7, 9} (9, 7, 4, 3, 6, 5)\n",
      "[11  8  2  1] (23, 19, 25, 22, 24, 21) [10, 15, 20, 12, 17, 16, 18, 13, 14] {3, 4, 5, 6, 7, 9} (9, 5, 6, 3, 7, 4)\n",
      "[12  7  5  1] (23, 22, 24, 25, 19, 21) [15, 11, 18, 14, 13, 17, 16, 20, 8] {2, 3, 4, 6, 9, 10} (9, 2, 4, 3, 10, 6)\n",
      "[12  7  5  1] (25, 22, 23, 21, 24, 19) [15, 9, 20, 10, 18, 16, 14, 17, 13] {2, 3, 4, 6, 8, 11} (6, 3, 8, 4, 11, 2)\n",
      "[12  8  3  2] (22, 25, 24, 19, 23, 21) [16, 10, 18, 9, 20, 15, 17, 14, 13] {1, 4, 5, 6, 7, 11} (5, 4, 7, 6, 11, 1)\n",
      "[12  9  3  1] (21, 24, 22, 25, 19, 23) [15, 11, 18, 14, 17, 13, 20, 16, 8] {2, 4, 5, 6, 7, 10} (6, 5, 7, 2, 10, 4)\n",
      "[13  9  4  2] (21, 25, 23, 22, 19, 24) [16, 10, 17, 11, 18, 14, 20, 15, 8] {1, 3, 5, 6, 7, 12} (7, 3, 6, 5, 12, 1)\n",
      "[13  9  4  2] (22, 23, 25, 21, 19, 24) [14, 11, 18, 10, 17, 16, 20, 15, 8] {1, 3, 5, 6, 7, 12} (6, 5, 7, 3, 12, 1)\n",
      "[14 10  5  2] (21, 25, 22, 23, 19, 24) [16, 9, 17, 11, 18, 13, 20, 15, 7] {1, 3, 4, 6, 8, 12} (6, 4, 8, 3, 12, 1)\n",
      "[14 10  5  2] (21, 25, 24, 19, 23, 22) [16, 9, 17, 7, 20, 15, 18, 13, 11] {1, 3, 4, 6, 8, 12} (6, 4, 12, 1, 8, 3)\n",
      "[14 11  5  1] (21, 24, 22, 25, 19, 23) [15, 9, 18, 12, 17, 13, 20, 16, 6] {2, 3, 4, 7, 8, 10} (8, 3, 7, 2, 10, 4)\n",
      "[15  9  6  4] (24, 25, 22, 19, 21, 23) [16, 7, 18, 8, 20, 13, 17, 14, 10] {1, 2, 3, 5, 11, 12} (5, 2, 12, 3, 11, 1)\n",
      "[15 10  5  4] (25, 24, 21, 23, 19, 22) [14, 7, 20, 12, 18, 11, 17, 16, 8] {1, 2, 3, 6, 9, 13} (6, 1, 9, 3, 13, 2)\n",
      "[16 11  7  3] (25, 24, 21, 23, 22, 19) [15, 5, 20, 10, 18, 12, 14, 17, 9] {1, 2, 4, 6, 8, 13} (6, 1, 8, 4, 13, 2)\n",
      "[16 11  7  3] (25, 24, 22, 23, 21, 19) [15, 5, 20, 10, 17, 13, 14, 18, 8] {1, 2, 4, 6, 9, 12} (6, 1, 9, 2, 12, 4)\n",
      "[16 11  9  1] (23, 22, 24, 25, 21, 19) [15, 7, 18, 10, 13, 17, 14, 20, 6] {2, 3, 4, 5, 8, 12} (8, 3, 5, 2, 12, 4)\n",
      "[16 12  7  2] (21, 19, 23, 22, 25, 24) [10, 13, 17, 8, 18, 14, 20, 9, 11] {1, 3, 4, 5, 6, 15} (15, 1, 6, 5, 4, 3)\n",
      "[16 13  6  2] (23, 22, 24, 25, 19, 21) [12, 8, 20, 11, 15, 14, 18, 17, 5] {1, 3, 4, 7, 9, 10} (10, 1, 4, 3, 9, 7)\n",
      "[16 15  4  2] (21, 23, 25, 24, 22, 19) [11, 9, 20, 10, 17, 13, 18, 14, 8] {1, 3, 5, 6, 7, 12} (7, 5, 6, 1, 12, 3)\n",
      "[16 15  5  1] (19, 23, 25, 24, 22, 21) [12, 10, 18, 9, 17, 14, 20, 13, 7] {2, 3, 4, 6, 8, 11} (8, 6, 4, 3, 11, 2)\n",
      "[16 15  5  1] (21, 22, 24, 25, 23, 19) [11, 9, 20, 10, 17, 13, 18, 14, 8] {2, 3, 4, 6, 7, 12} (7, 6, 4, 3, 12, 2)\n",
      "[18 12  9  4] (21, 25, 22, 19, 24, 23) [16, 7, 15, 5, 20, 13, 17, 11, 10] {1, 2, 3, 6, 8, 14} (8, 2, 14, 1, 6, 3)\n",
      "[18 13  9  3] (21, 24, 23, 19, 25, 22) [15, 7, 16, 4, 20, 14, 17, 11, 10] {1, 2, 5, 6, 8, 12} (6, 5, 12, 2, 8, 1)\n",
      "[18 13 10  2] (19, 23, 24, 21, 22, 25) [15, 9, 14, 5, 17, 16, 20, 12, 6] {1, 3, 4, 7, 8, 11} (11, 3, 7, 4, 8, 1)\n",
      "[18 13 11  1] (22, 19, 23, 24, 21, 25) [12, 9, 17, 7, 15, 16, 20, 14, 4] {2, 3, 5, 6, 8, 10} (10, 5, 6, 3, 8, 2)\n",
      "[18 14  9  2] (19, 22, 25, 21, 23, 24) [13, 10, 15, 5, 17, 16, 20, 11, 7] {1, 3, 4, 6, 8, 12} (12, 3, 6, 4, 8, 1)\n",
      "[18 15  9  1] (19, 21, 22, 25, 24, 23) [12, 10, 16, 8, 17, 13, 20, 11, 7] {2, 3, 4, 5, 6, 14} (14, 2, 5, 4, 6, 3)\n",
      "[18 15  9  1] (19, 21, 22, 25, 24, 23) [12, 10, 16, 8, 17, 13, 20, 11, 7] {2, 3, 4, 5, 6, 14} (14, 2, 6, 3, 5, 4)\n",
      "[20 13 11  5] (24, 25, 19, 23, 22, 21) [16, 3, 17, 8, 18, 10, 14, 15, 7] {1, 2, 4, 6, 9, 12} (6, 1, 12, 2, 9, 4)\n",
      "[20 14 10  5] (22, 23, 25, 19, 21, 24) [13, 7, 16, 4, 17, 15, 18, 12, 6] {1, 2, 3, 8, 9, 11} (8, 3, 11, 1, 9, 2)\n",
      "[20 14 10  5] (22, 23, 25, 19, 21, 24) [13, 7, 16, 4, 17, 15, 18, 12, 6] {1, 2, 3, 8, 9, 11} (9, 2, 11, 1, 8, 3)\n",
      "[20 14 11  4] (21, 25, 19, 24, 22, 23) [16, 5, 15, 8, 18, 10, 17, 13, 6] {1, 2, 3, 7, 9, 12} (7, 3, 12, 1, 9, 2)\n",
      "[20 14 11  4] (23, 19, 25, 21, 22, 24) [10, 9, 17, 5, 15, 16, 18, 12, 6] {1, 2, 3, 7, 8, 13} (13, 1, 7, 3, 8, 2)\n",
      "[20 14 11  4] (23, 19, 25, 21, 22, 24) [10, 9, 17, 5, 15, 16, 18, 12, 6] {1, 2, 3, 7, 8, 13} (13, 1, 8, 2, 7, 3)\n",
      "[20 14 11  4] (23, 22, 25, 24, 19, 21) [13, 6, 17, 8, 12, 16, 15, 18, 3] {1, 2, 5, 7, 9, 10} (10, 1, 5, 2, 9, 7)\n",
      "[20 14 11  4] (24, 19, 25, 21, 22, 23) [10, 8, 18, 5, 15, 16, 17, 13, 6] {1, 2, 3, 7, 9, 12} (12, 1, 7, 3, 9, 2)\n",
      "[20 14 12  3] (22, 19, 23, 21, 25, 24) [11, 9, 16, 4, 17, 15, 18, 10, 8] {1, 2, 5, 6, 7, 13} (13, 2, 7, 5, 6, 1)\n",
      "[20 15  9  5] (22, 24, 25, 19, 23, 21) [13, 6, 17, 4, 18, 14, 16, 12, 8] {1, 2, 3, 7, 10, 11} (7, 3, 10, 2, 11, 1)\n",
      "[20 15  9  5] (22, 24, 25, 19, 23, 21) [13, 6, 17, 4, 18, 14, 16, 12, 8] {1, 2, 3, 7, 10, 11} (7, 3, 11, 1, 10, 2)\n",
      "[20 15 11  3] (19, 25, 21, 24, 22, 23) [16, 6, 14, 7, 17, 12, 18, 13, 5] {1, 2, 4, 8, 9, 10} (8, 4, 9, 2, 10, 1)\n",
      "[20 15 11  3] (19, 25, 21, 24, 22, 23) [16, 6, 14, 7, 17, 12, 18, 13, 5] {1, 2, 4, 8, 9, 10} (8, 4, 10, 1, 9, 2)\n",
      "[20 16  8  5] (22, 23, 24, 25, 19, 21) [11, 7, 18, 10, 14, 12, 17, 15, 4] {1, 2, 3, 6, 9, 13} (9, 2, 6, 1, 13, 3)\n",
      "[20 16  9  4] (21, 25, 23, 22, 24, 19) [14, 5, 17, 6, 18, 12, 15, 13, 8] {1, 2, 3, 7, 10, 11} (7, 3, 10, 1, 11, 2)\n",
      "[20 16  9  4] (22, 23, 25, 21, 24, 19) [12, 6, 18, 5, 17, 14, 15, 13, 8] {1, 2, 3, 7, 10, 11} (10, 1, 7, 3, 11, 2)\n",
      "[20 16 10  3] (19, 24, 23, 22, 25, 21) [14, 7, 15, 5, 18, 13, 17, 11, 8] {1, 2, 4, 6, 9, 12} (12, 1, 9, 2, 6, 4)\n",
      "[20 16 10  3] (21, 24, 22, 23, 25, 19) [14, 5, 17, 6, 18, 12, 15, 13, 8] {1, 2, 4, 7, 9, 11} (7, 4, 9, 2, 11, 1)\n",
      "[20 16 10  3] (21, 24, 22, 23, 25, 19) [14, 5, 17, 6, 18, 12, 15, 13, 8] {1, 2, 4, 7, 9, 11} (9, 2, 7, 4, 11, 1)\n",
      "[20 16 10  3] (22, 23, 21, 25, 24, 19) [13, 5, 18, 8, 17, 11, 15, 14, 7] {1, 2, 4, 6, 9, 12} (9, 2, 6, 4, 12, 1)\n",
      "[20 16 11  2] (21, 19, 24, 25, 23, 22) [10, 9, 17, 7, 14, 15, 18, 13, 5] {1, 3, 4, 6, 8, 12} (12, 4, 6, 1, 8, 3)\n",
      "[20 17  9  3] (19, 23, 25, 24, 22, 21) [12, 8, 16, 7, 15, 14, 18, 13, 5] {1, 2, 4, 6, 10, 11} (10, 4, 6, 1, 11, 2)\n",
      "[20 17  9  3] (21, 22, 24, 25, 23, 19) [11, 7, 18, 8, 15, 13, 16, 14, 6] {1, 2, 4, 5, 10, 12} (12, 1, 5, 2, 10, 4)\n",
      "[20 17 10  2] (19, 22, 24, 25, 23, 21) [12, 8, 16, 7, 15, 14, 18, 13, 5] {1, 3, 4, 6, 9, 11} (9, 6, 4, 3, 11, 1)\n",
      "[20 17 10  2] (19, 22, 24, 25, 23, 21) [12, 8, 16, 7, 15, 14, 18, 13, 5] {1, 3, 4, 6, 9, 11} (11, 4, 6, 1, 9, 3)\n",
      "59\n"
     ]
    }
   ],
   "source": [
    "sum=56\n",
    "i=0\n",
    "for x in range(z56):\n",
    "    temp=set(range(1,26))-set(Zlist[x,:])\n",
    "    X=Zlist[x,0:4]\n",
    "    for Y in itertools.permutations(Zlist[x,4:10], 6):\n",
    "        for C1 in temp:\n",
    "            C0=sum-X[1]-Y[0]-C1\n",
    "            C2=sum-Y[1]-X[2]-C1\n",
    "            if C0+C1+C2+X[0]==sum:\n",
    "                if C0>0 and C0 <=25 and C2>0 and C2<= 25 and len(set([C0, C1, C2])|set(X)|set(Y))==13:\n",
    "                    temp2=temp-set([C0, C1, C2])\n",
    "                    for C4 in temp2:\n",
    "                        C3=sum-X[2]-Y[2]-C4\n",
    "                        C5=sum-Y[3]-X[3]-C4\n",
    "                        if C3+C4+C5+X[0]==sum:\n",
    "                            \n",
    "                            if C3>0 and C3 <=25 and C5>0 and C5<=25 and len(set([C0, C1, C2, C3, C4, C5])|set(X)|set(Y))==16:\n",
    "                                C7=sum-C1-C4-X[0]\n",
    "                                C6=sum-X[3]-Y[4]-C7\n",
    "                                C8=sum-X[1]-Y[5]-C7\n",
    "                                if C6+C7+C8+X[0]==sum:\n",
    "                                    if C7>0 and C7 <=25 and C6>0 and C6<= 25 and C8>0 and C8<= 25 and len(set([C0, C1, C2, C3, C4, C5, C6, C7, C8])|set(X)|set(Y))==19:\n",
    "                                        elses=set(range(1,26))-(set([C0, C1, C2, C3, C4, C5, C6, C7, C8])|set(X)|set(Y))\n",
    "                                        for W in itertools.permutations(elses, 6):\n",
    "                                            if W[0]+W[1]== sum-Y[0]-Y[1] and W[0]>W[1]:\n",
    "                                                if W[2]+W[3]== sum-Y[2]-Y[3] and W[2]>W[3]:\n",
    "                                                    if W[4]+W[5]==sum-Y[4]-Y[5] and W[4]>W[5]:\n",
    "                                                        print(X,Y,[C0, C1, C2, C3, C4, C5, C6, C7, C8],elses,W)\n",
    "                                                        i+=1\n",
    "print(i)\n",
    "n56=i"
   ]
  },
  {
   "cell_type": "code",
   "execution_count": 20,
   "metadata": {},
   "outputs": [],
   "source": [
    "# I will not give all examples for other magic sums. If you want to get all magic triangles or order 5, you can easily rerun."
   ]
  },
  {
   "cell_type": "code",
   "execution_count": null,
   "metadata": {},
   "outputs": [],
   "source": []
  },
  {
   "cell_type": "code",
   "execution_count": 21,
   "metadata": {},
   "outputs": [],
   "source": [
    "del X, Y, [C0, C1, C2, C3, C4, C5, C6, C7, C8],elses,W"
   ]
  },
  {
   "cell_type": "markdown",
   "metadata": {},
   "source": [
    "# sum 55"
   ]
  },
  {
   "cell_type": "code",
   "execution_count": 23,
   "metadata": {},
   "outputs": [],
   "source": [
    "#             o\n",
    "#            / \\ \n",
    "#           o-- o\n",
    "#          /1\\ /1\\ \n",
    "#        o-- o-- o\n",
    "#       / \\ / \\ / \\ \n",
    "#      o-- o-- o-- o\n",
    "#     /1\\ / \\ / \\ /1\\ \n",
    "#    o---o---o-- o-- o\n",
    "#   / \\ /1\\ / \\ /1\\ / \\ \n",
    "#  o---o---o---o-- o-- o\n",
    "#total sum = 14*sum-26*25=120\n",
    "\n",
    "#$ means -1\n",
    "\n",
    "#             o\n",
    "#            / \\ \n",
    "#           o-- o\n",
    "#          / \\ / \\ \n",
    "#        o-- o-- o\n",
    "#       /$\\ / \\ /$\\ \n",
    "#      o-- o-- o-- o\n",
    "#     / \\ / \\2/ \\ / \\ \n",
    "#    o---o---o-- o-- o\n",
    "#   / \\ / \\ /$\\ / \\ / \\ \n",
    "#  o---o---o---o-- o-- o\n",
    "# total sum: 6*sum-25*13 = 5"
   ]
  },
  {
   "cell_type": "code",
   "execution_count": 24,
   "metadata": {},
   "outputs": [],
   "source": [
    "sum=55\n",
    "#             o\n",
    "#            / \\ \n",
    "#           o-- o\n",
    "#          /b\\ /b\\ \n",
    "#        o-- o-- o\n",
    "#       /a\\ / \\ /a\\ \n",
    "#      o-- o-- o-- o\n",
    "#     /b\\ / \\a/ \\ /b\\ \n",
    "#    o---o---o-- o-- o\n",
    "#   / \\ /b\\ /a\\ /b\\ / \\ \n",
    "#  o---o---o---o-- o-- o"
   ]
  },
  {
   "cell_type": "code",
   "execution_count": 25,
   "metadata": {},
   "outputs": [
    {
     "name": "stdout",
     "output_type": "stream",
     "text": [
      "724\n"
     ]
    }
   ],
   "source": [
    "i=0\n",
    "for A in itertools.permutations(range(1,26), 4):\n",
    "    if A[0]*2==A[1]+A[2]+A[3]+5 and A[1]>A[2] and A[2]>A[3]:\n",
    "        #print(A)\n",
    "        i+=1\n",
    "print(i)\n",
    "i55=i"
   ]
  },
  {
   "cell_type": "code",
   "execution_count": 26,
   "metadata": {},
   "outputs": [
    {
     "name": "stdout",
     "output_type": "stream",
     "text": [
      "724\n"
     ]
    }
   ],
   "source": [
    "As=np.zeros([i55,4],dtype=int)\n",
    "i=0\n",
    "for A in itertools.permutations(range(1,26), 4):\n",
    "    if A[0]*2==A[1]+A[2]+A[3]+5 and A[1]>A[2] and A[2]>A[3]:\n",
    "        #print(A)\n",
    "        As[i,:]=A\n",
    "        i+=1\n",
    "print(i)"
   ]
  },
  {
   "cell_type": "code",
   "execution_count": 27,
   "metadata": {},
   "outputs": [
    {
     "name": "stdout",
     "output_type": "stream",
     "text": [
      "110\n"
     ]
    }
   ],
   "source": [
    "j=0\n",
    "for B in itertools.combinations(range(1,26), 6):\n",
    "    if np.sum(B)==120:\n",
    "        j+=1\n",
    "print(j)\n",
    "j55=j"
   ]
  },
  {
   "cell_type": "code",
   "execution_count": 28,
   "metadata": {},
   "outputs": [
    {
     "name": "stdout",
     "output_type": "stream",
     "text": [
      "110\n"
     ]
    }
   ],
   "source": [
    "Bs=np.zeros([j55,6],dtype=int)\n",
    "j=0\n",
    "for B in itertools.combinations(range(1,26), 6):\n",
    "    if np.sum(B)==120:\n",
    "        Bs[j,:]=B\n",
    "        j+=1\n",
    "print(j)"
   ]
  },
  {
   "cell_type": "code",
   "execution_count": 29,
   "metadata": {},
   "outputs": [
    {
     "name": "stdout",
     "output_type": "stream",
     "text": [
      "24959\n"
     ]
    }
   ],
   "source": [
    "z=0\n",
    "for x in range(i55):\n",
    "    for y in range(j55):\n",
    "        if len(set(As[x,:]) | set(Bs[y,:]))==10:\n",
    "            #print(x,y)\n",
    "            z+=1\n",
    "print(z)\n",
    "z55=z"
   ]
  },
  {
   "cell_type": "code",
   "execution_count": 30,
   "metadata": {},
   "outputs": [
    {
     "name": "stdout",
     "output_type": "stream",
     "text": [
      "24959\n"
     ]
    }
   ],
   "source": [
    "Zs=np.zeros([z55,2],dtype=int)\n",
    "Zlist=np.zeros([z55,10],dtype=int)\n",
    "z=0\n",
    "for x in range(i55):\n",
    "    for y in range(j55):\n",
    "        if len(set(As[x,:]) | set(Bs[y,:]))==10:\n",
    "            Zlist[z,0:4]=As[x,:]\n",
    "            Zlist[z,4:10]=Bs[y,:]\n",
    "            Zs[z,:]=[x,y]\n",
    "            z+=1\n",
    "print(z)"
   ]
  },
  {
   "cell_type": "code",
   "execution_count": 31,
   "metadata": {},
   "outputs": [
    {
     "data": {
      "text/plain": [
       "array([[ 6,  4,  2, ..., 23, 24, 25],\n",
       "       [ 6,  4,  2, ..., 23, 24, 25],\n",
       "       [ 6,  4,  2, ..., 23, 24, 25],\n",
       "       ...,\n",
       "       [25, 24, 18, ..., 21, 22, 23],\n",
       "       [25, 24, 19, ..., 21, 22, 23],\n",
       "       [25, 24, 20, ..., 21, 22, 23]])"
      ]
     },
     "execution_count": 31,
     "metadata": {},
     "output_type": "execute_result"
    }
   ],
   "source": [
    "Zlist"
   ]
  },
  {
   "cell_type": "code",
   "execution_count": 32,
   "metadata": {},
   "outputs": [
    {
     "name": "stdout",
     "output_type": "stream",
     "text": [
      "[6 4 2 1] (24, 15, 21, 23, 25, 12) [11, 16, 22, 18, 14, 17, 10, 19, 20] {3, 5, 7, 8, 9, 13} (9, 7, 8, 3, 13, 5)\n",
      "1295\n"
     ]
    }
   ],
   "source": [
    "sum=55\n",
    "i=0\n",
    "for x in range(z55):\n",
    "    temp=set(range(1,26))-set(Zlist[x,:])\n",
    "    X=Zlist[x,0:4]\n",
    "    for Y in itertools.permutations(Zlist[x,4:10], 6):\n",
    "        for C1 in temp:\n",
    "            C0=sum-X[1]-Y[0]-C1\n",
    "            C2=sum-Y[1]-X[2]-C1\n",
    "            if C0+C1+C2+X[0]==sum:\n",
    "                if C0>0 and C0 <=25 and C2>0 and C2<= 25 and len(set([C0, C1, C2])|set(X)|set(Y))==13:\n",
    "                    temp2=temp-set([C0, C1, C2])\n",
    "                    for C4 in temp2:\n",
    "                        C3=sum-X[2]-Y[2]-C4\n",
    "                        C5=sum-Y[3]-X[3]-C4\n",
    "                        if C3+C4+C5+X[0]==sum:\n",
    "                            \n",
    "                            if C3>0 and C3 <=25 and C5>0 and C5<=25 and len(set([C0, C1, C2, C3, C4, C5])|set(X)|set(Y))==16:\n",
    "                                C7=sum-C1-C4-X[0]\n",
    "                                C6=sum-X[3]-Y[4]-C7\n",
    "                                C8=sum-X[1]-Y[5]-C7\n",
    "                                if C6+C7+C8+X[0]==sum:\n",
    "                                    if C7>0 and C7 <=25 and C6>0 and C6<= 25 and C8>0 and C8<= 25 and len(set([C0, C1, C2, C3, C4, C5, C6, C7, C8])|set(X)|set(Y))==19:\n",
    "                                        elses=set(range(1,26))-(set([C0, C1, C2, C3, C4, C5, C6, C7, C8])|set(X)|set(Y))\n",
    "                                        for W in itertools.permutations(elses, 6):\n",
    "                                            if W[0]+W[1]== sum-Y[0]-Y[1] and W[0]>W[1]:\n",
    "                                                if W[2]+W[3]== sum-Y[2]-Y[3] and W[2]>W[3]:\n",
    "                                                    if W[4]+W[5]==sum-Y[4]-Y[5] and W[4]>W[5]:\n",
    "                                                        if i==0:\n",
    "                                                            print(X,Y,[C0, C1, C2, C3, C4, C5, C6, C7, C8],elses,W)\n",
    "                                                        i+=1\n",
    "print(i)\n",
    "n55=i"
   ]
  },
  {
   "cell_type": "code",
   "execution_count": 33,
   "metadata": {},
   "outputs": [],
   "source": [
    "del X, Y, [C0, C1, C2, C3, C4, C5, C6, C7, C8],elses,W"
   ]
  },
  {
   "cell_type": "markdown",
   "metadata": {},
   "source": [
    "# sum 54"
   ]
  },
  {
   "cell_type": "code",
   "execution_count": 35,
   "metadata": {},
   "outputs": [],
   "source": [
    "#             o\n",
    "#            / \\ \n",
    "#           o-- o\n",
    "#          /1\\ /1\\ \n",
    "#        o-- o-- o\n",
    "#       / \\ / \\ / \\ \n",
    "#      o-- o-- o-- o\n",
    "#     /1\\ / \\ / \\ /1\\ \n",
    "#    o---o---o-- o-- o\n",
    "#   / \\ /1\\ / \\ /1\\ / \\ \n",
    "#  o---o---o---o-- o-- o\n",
    "#total sum = 14*sum-26*25=106\n",
    "\n",
    "#$ means -1\n",
    "\n",
    "#             o\n",
    "#            / \\ \n",
    "#           o-- o\n",
    "#          / \\ / \\ \n",
    "#        o-- o-- o\n",
    "#       /$\\ / \\ /$\\ \n",
    "#      o-- o-- o-- o\n",
    "#     / \\ / \\2/ \\ / \\ \n",
    "#    o---o---o-- o-- o\n",
    "#   / \\ / \\ /$\\ / \\ / \\ \n",
    "#  o---o---o---o-- o-- o\n",
    "# total sum: 6*sum-25*13 = -1"
   ]
  },
  {
   "cell_type": "code",
   "execution_count": 36,
   "metadata": {},
   "outputs": [],
   "source": [
    "sum=54\n",
    "#             o\n",
    "#            / \\ \n",
    "#           o-- o\n",
    "#          /b\\ /b\\ \n",
    "#        o-- o-- o\n",
    "#       /a\\ / \\ /a\\ \n",
    "#      o-- o-- o-- o\n",
    "#     /b\\ / \\a/ \\ /b\\ \n",
    "#    o---o---o-- o-- o\n",
    "#   / \\ /b\\ /a\\ /b\\ / \\ \n",
    "#  o---o---o---o-- o-- o"
   ]
  },
  {
   "cell_type": "code",
   "execution_count": 37,
   "metadata": {},
   "outputs": [
    {
     "name": "stdout",
     "output_type": "stream",
     "text": [
      "846\n"
     ]
    }
   ],
   "source": [
    "i=0\n",
    "for A in itertools.permutations(range(1,26), 4):\n",
    "    if A[0]*2==A[1]+A[2]+A[3]-1 and A[1]>A[2] and A[2]>A[3]:\n",
    "        #print(A)\n",
    "        i+=1\n",
    "print(i)\n",
    "i54=i"
   ]
  },
  {
   "cell_type": "code",
   "execution_count": 38,
   "metadata": {},
   "outputs": [
    {
     "name": "stdout",
     "output_type": "stream",
     "text": [
      "846\n"
     ]
    }
   ],
   "source": [
    "As=np.zeros([i54,4],dtype=int)\n",
    "i=0\n",
    "for A in itertools.permutations(range(1,26), 4):\n",
    "    if A[0]*2==A[1]+A[2]+A[3]-1 and A[1]>A[2] and A[2]>A[3]:\n",
    "        #print(A)\n",
    "        As[i,:]=A\n",
    "        i+=1\n",
    "print(i)"
   ]
  },
  {
   "cell_type": "code",
   "execution_count": 39,
   "metadata": {},
   "outputs": [
    {
     "name": "stdout",
     "output_type": "stream",
     "text": [
      "974\n"
     ]
    }
   ],
   "source": [
    "j=0\n",
    "for B in itertools.combinations(range(1,26), 6):\n",
    "    if np.sum(B)==106:\n",
    "        j+=1\n",
    "print(j)\n",
    "j54=j"
   ]
  },
  {
   "cell_type": "code",
   "execution_count": 40,
   "metadata": {},
   "outputs": [
    {
     "name": "stdout",
     "output_type": "stream",
     "text": [
      "974\n"
     ]
    }
   ],
   "source": [
    "Bs=np.zeros([j54,6],dtype=int)\n",
    "j=0\n",
    "for B in itertools.combinations(range(1,26), 6):\n",
    "    if np.sum(B)==106:\n",
    "        Bs[j,:]=B\n",
    "        j+=1\n",
    "print(j)"
   ]
  },
  {
   "cell_type": "code",
   "execution_count": 41,
   "metadata": {},
   "outputs": [
    {
     "name": "stdout",
     "output_type": "stream",
     "text": [
      "249756\n"
     ]
    }
   ],
   "source": [
    "z=0\n",
    "for x in range(i54):\n",
    "    for y in range(j54):\n",
    "        if len(set(As[x,:]) | set(Bs[y,:]))==10:\n",
    "            #print(x,y)\n",
    "            z+=1\n",
    "print(z)\n",
    "z54=z"
   ]
  },
  {
   "cell_type": "code",
   "execution_count": 42,
   "metadata": {},
   "outputs": [
    {
     "name": "stdout",
     "output_type": "stream",
     "text": [
      "249756\n"
     ]
    }
   ],
   "source": [
    "Zs=np.zeros([z54,2],dtype=int)\n",
    "Zlist=np.zeros([z54,10],dtype=int)\n",
    "z=0\n",
    "for x in range(i54):\n",
    "    for y in range(j54):\n",
    "        if len(set(As[x,:]) | set(Bs[y,:]))==10:\n",
    "            Zlist[z,0:4]=As[x,:]\n",
    "            Zlist[z,4:10]=Bs[y,:]\n",
    "            Zs[z,:]=[x,y]\n",
    "            z+=1\n",
    "print(z)"
   ]
  },
  {
   "cell_type": "code",
   "execution_count": 43,
   "metadata": {},
   "outputs": [
    {
     "data": {
      "text/plain": [
       "array([[ 3,  4,  2, ..., 23, 24, 25],\n",
       "       [ 3,  4,  2, ..., 23, 24, 25],\n",
       "       [ 3,  4,  2, ..., 23, 24, 25],\n",
       "       ...,\n",
       "       [25, 24, 23, ..., 18, 19, 22],\n",
       "       [25, 24, 23, ..., 18, 20, 21],\n",
       "       [25, 24, 23, ..., 18, 19, 21]])"
      ]
     },
     "execution_count": 43,
     "metadata": {},
     "output_type": "execute_result"
    }
   ],
   "source": [
    "Zlist"
   ]
  },
  {
   "cell_type": "code",
   "execution_count": 44,
   "metadata": {},
   "outputs": [
    {
     "name": "stdout",
     "output_type": "stream",
     "text": [
      "[3 4 2 1] (7, 25, 21, 18, 13, 22) [24, 19, 8, 16, 15, 20, 23, 17, 11] {5, 6, 9, 10, 12, 14} (12, 10, 9, 6, 14, 5)\n",
      "6911\n"
     ]
    }
   ],
   "source": [
    "sum=54\n",
    "i=0\n",
    "for x in range(z54):\n",
    "    temp=set(range(1,26))-set(Zlist[x,:])\n",
    "    X=Zlist[x,0:4]\n",
    "    for Y in itertools.permutations(Zlist[x,4:10], 6):\n",
    "        for C1 in temp:\n",
    "            C0=sum-X[1]-Y[0]-C1\n",
    "            C2=sum-Y[1]-X[2]-C1\n",
    "            if C0+C1+C2+X[0]==sum:\n",
    "                if C0>0 and C0 <=25 and C2>0 and C2<= 25 and len(set([C0, C1, C2])|set(X)|set(Y))==13:\n",
    "                    temp2=temp-set([C0, C1, C2])\n",
    "                    for C4 in temp2:\n",
    "                        C3=sum-X[2]-Y[2]-C4\n",
    "                        C5=sum-Y[3]-X[3]-C4\n",
    "                        if C3+C4+C5+X[0]==sum:\n",
    "                            \n",
    "                            if C3>0 and C3 <=25 and C5>0 and C5<=25 and len(set([C0, C1, C2, C3, C4, C5])|set(X)|set(Y))==16:\n",
    "                                C7=sum-C1-C4-X[0]\n",
    "                                C6=sum-X[3]-Y[4]-C7\n",
    "                                C8=sum-X[1]-Y[5]-C7\n",
    "                                if C6+C7+C8+X[0]==sum:\n",
    "                                    if C7>0 and C7 <=25 and C6>0 and C6<= 25 and C8>0 and C8<= 25 and len(set([C0, C1, C2, C3, C4, C5, C6, C7, C8])|set(X)|set(Y))==19:\n",
    "                                        elses=set(range(1,26))-(set([C0, C1, C2, C3, C4, C5, C6, C7, C8])|set(X)|set(Y))\n",
    "                                        for W in itertools.permutations(elses, 6):\n",
    "                                            if W[0]+W[1]== sum-Y[0]-Y[1] and W[0]>W[1]:\n",
    "                                                if W[2]+W[3]== sum-Y[2]-Y[3] and W[2]>W[3]:\n",
    "                                                    if W[4]+W[5]==sum-Y[4]-Y[5] and W[4]>W[5]:\n",
    "                                                        if i==0:\n",
    "                                                            print(X,Y,[C0, C1, C2, C3, C4, C5, C6, C7, C8],elses,W)\n",
    "                                                        i+=1\n",
    "print(i)\n",
    "n54=i"
   ]
  },
  {
   "cell_type": "code",
   "execution_count": 45,
   "metadata": {},
   "outputs": [],
   "source": [
    "del X, Y, [C0, C1, C2, C3, C4, C5, C6, C7, C8],elses,W"
   ]
  },
  {
   "cell_type": "markdown",
   "metadata": {},
   "source": [
    "# sum 53"
   ]
  },
  {
   "cell_type": "code",
   "execution_count": null,
   "metadata": {},
   "outputs": [],
   "source": []
  },
  {
   "cell_type": "code",
   "execution_count": 47,
   "metadata": {},
   "outputs": [],
   "source": [
    "#             o\n",
    "#            / \\ \n",
    "#           o-- o\n",
    "#          /1\\ /1\\ \n",
    "#        o-- o-- o\n",
    "#       / \\ / \\ / \\ \n",
    "#      o-- o-- o-- o\n",
    "#     /1\\ / \\ / \\ /1\\ \n",
    "#    o---o---o-- o-- o\n",
    "#   / \\ /1\\ / \\ /1\\ / \\ \n",
    "#  o---o---o---o-- o-- o\n",
    "#total sum = 14*sum-26*25=92\n",
    "\n",
    "#$ means -1\n",
    "\n",
    "#             o\n",
    "#            / \\ \n",
    "#           o-- o\n",
    "#          / \\ / \\ \n",
    "#        o-- o-- o\n",
    "#       /$\\ / \\ /$\\ \n",
    "#      o-- o-- o-- o\n",
    "#     / \\ / \\2/ \\ / \\ \n",
    "#    o---o---o-- o-- o\n",
    "#   / \\ / \\ /$\\ / \\ / \\ \n",
    "#  o---o---o---o-- o-- o\n",
    "# total sum: 6*sum-25*13 = -7"
   ]
  },
  {
   "cell_type": "code",
   "execution_count": 48,
   "metadata": {},
   "outputs": [],
   "source": [
    "sum=53\n",
    "#             o\n",
    "#            / \\ \n",
    "#           o-- o\n",
    "#          /b\\ /b\\ \n",
    "#        o-- o-- o\n",
    "#       /a\\ / \\ /a\\ \n",
    "#      o-- o-- o-- o\n",
    "#     /b\\ / \\a/ \\ /b\\ \n",
    "#    o---o---o-- o-- o\n",
    "#   / \\ /b\\ /a\\ /b\\ / \\ \n",
    "#  o---o---o---o-- o-- o"
   ]
  },
  {
   "cell_type": "code",
   "execution_count": 49,
   "metadata": {},
   "outputs": [
    {
     "name": "stdout",
     "output_type": "stream",
     "text": [
      "891\n"
     ]
    }
   ],
   "source": [
    "i=0\n",
    "for A in itertools.permutations(range(1,26), 4):\n",
    "    if A[0]*2==A[1]+A[2]+A[3]-7 and A[1]>A[2] and A[2]>A[3]:\n",
    "        #print(A)\n",
    "        i+=1\n",
    "print(i)\n",
    "i53=i"
   ]
  },
  {
   "cell_type": "code",
   "execution_count": 50,
   "metadata": {},
   "outputs": [
    {
     "name": "stdout",
     "output_type": "stream",
     "text": [
      "891\n"
     ]
    }
   ],
   "source": [
    "As=np.zeros([i53,4],dtype=int)\n",
    "i=0\n",
    "for A in itertools.permutations(range(1,26), 4):\n",
    "    if A[0]*2==A[1]+A[2]+A[3]-7 and A[1]>A[2] and A[2]>A[3]:\n",
    "        #print(A)\n",
    "        As[i,:]=A\n",
    "        i+=1\n",
    "print(i)"
   ]
  },
  {
   "cell_type": "code",
   "execution_count": 51,
   "metadata": {},
   "outputs": [
    {
     "name": "stdout",
     "output_type": "stream",
     "text": [
      "3048\n"
     ]
    }
   ],
   "source": [
    "j=0\n",
    "for B in itertools.combinations(range(1,26), 6):\n",
    "    if np.sum(B)==92:\n",
    "        j+=1\n",
    "print(j)\n",
    "j53=j"
   ]
  },
  {
   "cell_type": "code",
   "execution_count": 52,
   "metadata": {},
   "outputs": [
    {
     "name": "stdout",
     "output_type": "stream",
     "text": [
      "3048\n"
     ]
    }
   ],
   "source": [
    "Bs=np.zeros([j53,6],dtype=int)\n",
    "j=0\n",
    "for B in itertools.combinations(range(1,26), 6):\n",
    "    if np.sum(B)==92:\n",
    "        Bs[j,:]=B\n",
    "        j+=1\n",
    "print(j)"
   ]
  },
  {
   "cell_type": "code",
   "execution_count": 53,
   "metadata": {},
   "outputs": [
    {
     "name": "stdout",
     "output_type": "stream",
     "text": [
      "814585\n"
     ]
    }
   ],
   "source": [
    "z=0\n",
    "for x in range(i53):\n",
    "    for y in range(j53):\n",
    "        if len(set(As[x,:]) | set(Bs[y,:]))==10:\n",
    "            #print(x,y)\n",
    "            z+=1\n",
    "print(z)\n",
    "z53=z"
   ]
  },
  {
   "cell_type": "code",
   "execution_count": 54,
   "metadata": {},
   "outputs": [
    {
     "name": "stdout",
     "output_type": "stream",
     "text": [
      "814585\n"
     ]
    }
   ],
   "source": [
    "Zs=np.zeros([z53,2],dtype=int)\n",
    "Zlist=np.zeros([z53,10],dtype=int)\n",
    "z=0\n",
    "for x in range(i53):\n",
    "    for y in range(j53):\n",
    "        if len(set(As[x,:]) | set(Bs[y,:]))==10:\n",
    "            Zlist[z,0:4]=As[x,:]\n",
    "            Zlist[z,4:10]=Bs[y,:]\n",
    "            Zs[z,:]=[x,y]\n",
    "            z+=1\n",
    "print(z)"
   ]
  },
  {
   "cell_type": "code",
   "execution_count": 55,
   "metadata": {},
   "outputs": [
    {
     "data": {
      "text/plain": [
       "array([[ 1,  4,  3, ..., 23, 24, 25],\n",
       "       [ 1,  4,  3, ..., 22, 24, 25],\n",
       "       [ 1,  4,  3, ..., 21, 24, 25],\n",
       "       ...,\n",
       "       [25, 24, 23, ..., 16, 18, 19],\n",
       "       [25, 24, 23, ..., 16, 17, 19],\n",
       "       [25, 24, 23, ..., 16, 17, 18]])"
      ]
     },
     "execution_count": 55,
     "metadata": {},
     "output_type": "execute_result"
    }
   ],
   "source": [
    "Zlist"
   ]
  },
  {
   "cell_type": "code",
   "execution_count": 56,
   "metadata": {},
   "outputs": [
    {
     "name": "stdout",
     "output_type": "stream",
     "text": [
      "[1 4 3 2] (22, 7, 19, 16, 23, 5) [9, 18, 25, 17, 14, 21, 8, 20, 24] {6, 10, 11, 12, 13, 15} (13, 11, 12, 6, 15, 10)\n",
      "13482\n"
     ]
    }
   ],
   "source": [
    "sum=53\n",
    "i=0\n",
    "for x in range(z53):\n",
    "    temp=set(range(1,26))-set(Zlist[x,:])\n",
    "    X=Zlist[x,0:4]\n",
    "    for Y in itertools.permutations(Zlist[x,4:10], 6):\n",
    "        for C1 in temp:\n",
    "            C0=sum-X[1]-Y[0]-C1\n",
    "            C2=sum-Y[1]-X[2]-C1\n",
    "            if C0+C1+C2+X[0]==sum:\n",
    "                if C0>0 and C0 <=25 and C2>0 and C2<= 25 and len(set([C0, C1, C2])|set(X)|set(Y))==13:\n",
    "                    temp2=temp-set([C0, C1, C2])\n",
    "                    for C4 in temp2:\n",
    "                        C3=sum-X[2]-Y[2]-C4\n",
    "                        C5=sum-Y[3]-X[3]-C4\n",
    "                        if C3+C4+C5+X[0]==sum:\n",
    "                            \n",
    "                            if C3>0 and C3 <=25 and C5>0 and C5<=25 and len(set([C0, C1, C2, C3, C4, C5])|set(X)|set(Y))==16:\n",
    "                                C7=sum-C1-C4-X[0]\n",
    "                                C6=sum-X[3]-Y[4]-C7\n",
    "                                C8=sum-X[1]-Y[5]-C7\n",
    "                                if C6+C7+C8+X[0]==sum:\n",
    "                                    if C7>0 and C7 <=25 and C6>0 and C6<= 25 and C8>0 and C8<= 25 and len(set([C0, C1, C2, C3, C4, C5, C6, C7, C8])|set(X)|set(Y))==19:\n",
    "                                        elses=set(range(1,26))-(set([C0, C1, C2, C3, C4, C5, C6, C7, C8])|set(X)|set(Y))\n",
    "                                        for W in itertools.permutations(elses, 6):\n",
    "                                            if W[0]+W[1]== sum-Y[0]-Y[1] and W[0]>W[1]:\n",
    "                                                if W[2]+W[3]== sum-Y[2]-Y[3] and W[2]>W[3]:\n",
    "                                                    if W[4]+W[5]==sum-Y[4]-Y[5] and W[4]>W[5]:\n",
    "                                                        if i==0:\n",
    "                                                            print(X,Y,[C0, C1, C2, C3, C4, C5, C6, C7, C8],elses,W)\n",
    "                                                        i+=1\n",
    "print(i)\n",
    "n53=i"
   ]
  },
  {
   "cell_type": "code",
   "execution_count": 57,
   "metadata": {},
   "outputs": [],
   "source": [
    "del X, Y, [C0, C1, C2, C3, C4, C5, C6, C7, C8],elses,W"
   ]
  },
  {
   "cell_type": "markdown",
   "metadata": {},
   "source": [
    "# sum 52"
   ]
  },
  {
   "cell_type": "code",
   "execution_count": 59,
   "metadata": {},
   "outputs": [],
   "source": [
    "#             o\n",
    "#            / \\ \n",
    "#           o-- o\n",
    "#          /1\\ /1\\ \n",
    "#        o-- o-- o\n",
    "#       / \\ / \\ / \\ \n",
    "#      o-- o-- o-- o\n",
    "#     /1\\ / \\ / \\ /1\\ \n",
    "#    o---o---o-- o-- o\n",
    "#   / \\ /1\\ / \\ /1\\ / \\ \n",
    "#  o---o---o---o-- o-- o\n",
    "#total sum = 14*sum-26*25=78\n",
    "\n",
    "#$ means -1\n",
    "\n",
    "#             o\n",
    "#            / \\ \n",
    "#           o-- o\n",
    "#          / \\ / \\ \n",
    "#        o-- o-- o\n",
    "#       /$\\ / \\ /$\\ \n",
    "#      o-- o-- o-- o\n",
    "#     / \\ / \\2/ \\ / \\ \n",
    "#    o---o---o-- o-- o\n",
    "#   / \\ / \\ /$\\ / \\ / \\ \n",
    "#  o---o---o---o-- o-- o\n",
    "# total sum: 6*sum-25*13 = -13"
   ]
  },
  {
   "cell_type": "code",
   "execution_count": 60,
   "metadata": {},
   "outputs": [],
   "source": [
    "sum=52\n",
    "#             o\n",
    "#            / \\ \n",
    "#           o-- o\n",
    "#          /b\\ /b\\ \n",
    "#        o-- o-- o\n",
    "#       /a\\ / \\ /a\\ \n",
    "#      o-- o-- o-- o\n",
    "#     /b\\ / \\a/ \\ /b\\ \n",
    "#    o---o---o-- o-- o\n",
    "#   / \\ /b\\ /a\\ /b\\ / \\ \n",
    "#  o---o---o---o-- o-- o"
   ]
  },
  {
   "cell_type": "code",
   "execution_count": 61,
   "metadata": {},
   "outputs": [
    {
     "name": "stdout",
     "output_type": "stream",
     "text": [
      "906\n"
     ]
    }
   ],
   "source": [
    "i=0\n",
    "for A in itertools.permutations(range(1,26), 4):\n",
    "    if A[0]*2==A[1]+A[2]+A[3]-13 and A[1]>A[2] and A[2]>A[3]:\n",
    "        #print(A)\n",
    "        i+=1\n",
    "print(i)\n",
    "i52=i"
   ]
  },
  {
   "cell_type": "code",
   "execution_count": 62,
   "metadata": {},
   "outputs": [
    {
     "name": "stdout",
     "output_type": "stream",
     "text": [
      "906\n"
     ]
    }
   ],
   "source": [
    "As=np.zeros([i52,4],dtype=int)\n",
    "i=0\n",
    "for A in itertools.permutations(range(1,26), 4):\n",
    "    if A[0]*2==A[1]+A[2]+A[3]-13 and A[1]>A[2] and A[2]>A[3]:\n",
    "        #print(A)\n",
    "        As[i,:]=A\n",
    "        i+=1\n",
    "print(i)"
   ]
  },
  {
   "cell_type": "code",
   "execution_count": 65,
   "metadata": {},
   "outputs": [
    {
     "name": "stdout",
     "output_type": "stream",
     "text": [
      "4370\n"
     ]
    }
   ],
   "source": [
    "j=0\n",
    "for B in itertools.combinations(range(1,26), 6):\n",
    "    if np.sum(B)==78:\n",
    "        j+=1\n",
    "print(j)\n",
    "j52=j"
   ]
  },
  {
   "cell_type": "code",
   "execution_count": 67,
   "metadata": {},
   "outputs": [
    {
     "name": "stdout",
     "output_type": "stream",
     "text": [
      "4370\n"
     ]
    }
   ],
   "source": [
    "Bs=np.zeros([j52,6],dtype=int)\n",
    "j=0\n",
    "for B in itertools.combinations(range(1,26), 6):\n",
    "    if np.sum(B)==78:\n",
    "        Bs[j,:]=B\n",
    "        j+=1\n",
    "print(j)"
   ]
  },
  {
   "cell_type": "code",
   "execution_count": 69,
   "metadata": {},
   "outputs": [
    {
     "name": "stdout",
     "output_type": "stream",
     "text": [
      "1185928\n"
     ]
    }
   ],
   "source": [
    "z=0\n",
    "for x in range(i52):\n",
    "    for y in range(j52):\n",
    "        if len(set(As[x,:]) | set(Bs[y,:]))==10:\n",
    "            #print(x,y)\n",
    "            z+=1\n",
    "print(z)\n",
    "z52=z"
   ]
  },
  {
   "cell_type": "code",
   "execution_count": 71,
   "metadata": {},
   "outputs": [
    {
     "name": "stdout",
     "output_type": "stream",
     "text": [
      "1185928\n"
     ]
    }
   ],
   "source": [
    "Zs=np.zeros([z52,2],dtype=int)\n",
    "Zlist=np.zeros([z52,10],dtype=int)\n",
    "z=0\n",
    "for x in range(i52):\n",
    "    for y in range(j52):\n",
    "        if len(set(As[x,:]) | set(Bs[y,:]))==10:\n",
    "            Zlist[z,0:4]=As[x,:]\n",
    "            Zlist[z,4:10]=Bs[y,:]\n",
    "            Zs[z,:]=[x,y]\n",
    "            z+=1\n",
    "print(z)"
   ]
  },
  {
   "cell_type": "code",
   "execution_count": 73,
   "metadata": {},
   "outputs": [
    {
     "data": {
      "text/plain": [
       "array([[ 1,  6,  5, ..., 17, 24, 25],\n",
       "       [ 1,  6,  5, ..., 18, 23, 25],\n",
       "       [ 1,  6,  5, ..., 19, 22, 25],\n",
       "       ...,\n",
       "       [25, 24, 23, ..., 14, 15, 17],\n",
       "       [25, 24, 23, ..., 13, 14, 18],\n",
       "       [25, 24, 23, ..., 13, 15, 17]])"
      ]
     },
     "execution_count": 73,
     "metadata": {},
     "output_type": "execute_result"
    }
   ],
   "source": [
    "Zlist"
   ]
  },
  {
   "cell_type": "code",
   "execution_count": 75,
   "metadata": {},
   "outputs": [
    {
     "name": "stdout",
     "output_type": "stream",
     "text": [
      "[1 6 5 4] (2, 19, 10, 22, 17, 8) [23, 21, 7, 25, 12, 14, 13, 18, 20] {3, 9, 11, 15, 16, 24} (16, 15, 11, 9, 24, 3)\n",
      "23994\n"
     ]
    }
   ],
   "source": [
    "sum=52\n",
    "i=0\n",
    "for x in range(z52):\n",
    "    temp=set(range(1,26))-set(Zlist[x,:])\n",
    "    X=Zlist[x,0:4]\n",
    "    for Y in itertools.permutations(Zlist[x,4:10], 6):\n",
    "        for C1 in temp:\n",
    "            C0=sum-X[1]-Y[0]-C1\n",
    "            C2=sum-Y[1]-X[2]-C1\n",
    "            if C0+C1+C2+X[0]==sum:\n",
    "                if C0>0 and C0 <=25 and C2>0 and C2<= 25 and len(set([C0, C1, C2])|set(X)|set(Y))==13:\n",
    "                    temp2=temp-set([C0, C1, C2])\n",
    "                    for C4 in temp2:\n",
    "                        C3=sum-X[2]-Y[2]-C4\n",
    "                        C5=sum-Y[3]-X[3]-C4\n",
    "                        if C3+C4+C5+X[0]==sum:\n",
    "                            \n",
    "                            if C3>0 and C3 <=25 and C5>0 and C5<=25 and len(set([C0, C1, C2, C3, C4, C5])|set(X)|set(Y))==16:\n",
    "                                C7=sum-C1-C4-X[0]\n",
    "                                C6=sum-X[3]-Y[4]-C7\n",
    "                                C8=sum-X[1]-Y[5]-C7\n",
    "                                if C6+C7+C8+X[0]==sum:\n",
    "                                    if C7>0 and C7 <=25 and C6>0 and C6<= 25 and C8>0 and C8<= 25 and len(set([C0, C1, C2, C3, C4, C5, C6, C7, C8])|set(X)|set(Y))==19:\n",
    "                                        elses=set(range(1,26))-(set([C0, C1, C2, C3, C4, C5, C6, C7, C8])|set(X)|set(Y))\n",
    "                                        for W in itertools.permutations(elses, 6):\n",
    "                                            if W[0]+W[1]== sum-Y[0]-Y[1] and W[0]>W[1]:\n",
    "                                                if W[2]+W[3]== sum-Y[2]-Y[3] and W[2]>W[3]:\n",
    "                                                    if W[4]+W[5]==sum-Y[4]-Y[5] and W[4]>W[5]:\n",
    "                                                        if i==0:\n",
    "                                                            print(X,Y,[C0, C1, C2, C3, C4, C5, C6, C7, C8],elses,W)\n",
    "                                                        i+=1\n",
    "print(i)\n",
    "n52=i"
   ]
  },
  {
   "cell_type": "code",
   "execution_count": 77,
   "metadata": {},
   "outputs": [],
   "source": [
    "del X, Y, [C0, C1, C2, C3, C4, C5, C6, C7, C8],elses,W"
   ]
  },
  {
   "cell_type": "markdown",
   "metadata": {},
   "source": [
    "# total number"
   ]
  },
  {
   "cell_type": "code",
   "execution_count": 79,
   "metadata": {},
   "outputs": [
    {
     "name": "stdout",
     "output_type": "stream",
     "text": [
      "total number for order 5 magic triangle: 67488\n"
     ]
    }
   ],
   "source": [
    "print(\"total number for order 5 magic triangle:\", n52+(n53+n54+n55+n56)*2)\n",
    "n48=n56\n",
    "n49=n55\n",
    "n50=n54\n",
    "n51=n53"
   ]
  },
  {
   "cell_type": "code",
   "execution_count": 81,
   "metadata": {},
   "outputs": [
    {
     "name": "stdout",
     "output_type": "stream",
     "text": [
      "sum 48: 59\n",
      "sum 49: 1295\n",
      "sum 51: 13482\n",
      "sum 52: 23994\n",
      "sum 53: 13482\n",
      "sum 54: 6911\n",
      "sum 55: 1295\n",
      "sum 56: 59\n",
      "total: 67488\n"
     ]
    }
   ],
   "source": [
    "print(\"sum 48:\", n48)\n",
    "print(\"sum 49:\", n49)\n",
    "print(\"sum 51:\", n51)\n",
    "print(\"sum 52:\", n52)\n",
    "print(\"sum 53:\", n53)\n",
    "print(\"sum 54:\", n54)\n",
    "print(\"sum 55:\", n55)\n",
    "print(\"sum 56:\", n56)\n",
    "print(\"total:\", n52+(n53+n54+n55+n56)*2)"
   ]
  },
  {
   "cell_type": "code",
   "execution_count": 85,
   "metadata": {},
   "outputs": [],
   "source": [
    "#If we think that swapping between a corner triangle and an edge-adjacent triangle generate different examples, the counts should be eight times as large."
   ]
  },
  {
   "cell_type": "code",
   "execution_count": 87,
   "metadata": {},
   "outputs": [],
   "source": [
    "total=n52+(n53+n54+n55+n56)*2"
   ]
  },
  {
   "cell_type": "code",
   "execution_count": 89,
   "metadata": {},
   "outputs": [
    {
     "name": "stdout",
     "output_type": "stream",
     "text": [
      "total(including corner swap): 539904\n"
     ]
    }
   ],
   "source": [
    "print(\"total(including corner swap):\", total*8)"
   ]
  },
  {
   "cell_type": "code",
   "execution_count": null,
   "metadata": {},
   "outputs": [],
   "source": []
  }
 ],
 "metadata": {
  "kernelspec": {
   "display_name": "Python 3 (ipykernel)",
   "language": "python",
   "name": "python3"
  },
  "language_info": {
   "codemirror_mode": {
    "name": "ipython",
    "version": 3
   },
   "file_extension": ".py",
   "mimetype": "text/x-python",
   "name": "python",
   "nbconvert_exporter": "python",
   "pygments_lexer": "ipython3",
   "version": "3.12.4"
  }
 },
 "nbformat": 4,
 "nbformat_minor": 4
}
