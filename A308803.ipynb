{
 "cells": [
  {
   "cell_type": "markdown",
   "metadata": {},
   "source": [
    "# A308803: \tlargest palindrome numbers formed by the product of two numbers with equal number of digits. If there is no palindrome numbers with this digit, the value is zero. "
   ]
  },
  {
   "cell_type": "code",
   "execution_count": 1,
   "metadata": {},
   "outputs": [],
   "source": [
    "products=(9, 0, 999, 9009, 99999, 906609, 9999999, 99000099, 999969999, 9966006699, 99999999999, 999000000999, 9999998999999, 99956644665999, 999999999999999, 9999000000009999, 99999999799999999, 999900665566009999, 9999999997999999999, 99999834000043899999)"
   ]
  },
  {
   "cell_type": "code",
   "execution_count": 2,
   "metadata": {},
   "outputs": [
    {
     "name": "stdout",
     "output_type": "stream",
     "text": [
      "0\n",
      "9009\n",
      "906609\n",
      "99000099\n",
      "9966006699\n",
      "999000000999\n",
      "99956644665999\n",
      "9999000000009999\n",
      "999900665566009999\n",
      "99999834000043899999\n"
     ]
    }
   ],
   "source": [
    "    # Verify the largest 2n-digit palindrome made from the product of two n-digit numbers.\n",
    "    def isPalindrome(n):\n",
    "        s = str(n)\n",
    "        reverse = \"\"\n",
    "        \n",
    "        for i in range (len(s) - 1, -1, -1):\n",
    "            reverse += s[i]\n",
    "\n",
    "        return reverse == s\n",
    "    # Because the last digit of palindromic product is nine, two numbers are odd.\n",
    "    # because 11 is a divisor of an palindromic product, one of number has 11 as factor.\n",
    "    def VerifyLargestPalindrome(n):\n",
    "        palindrome = products[2*n-1]\n",
    "        end= products[2*n-1]//pow(10,n)\n",
    "        if n%2==0:\n",
    "            start=pow(10,n)-1\n",
    "        else:\n",
    "            start=pow(10,n)-21\n",
    "        for i in range (start, end, -22):\n",
    "            for j in range (pow(10,n)-1, end, -2):\n",
    "                \n",
    "                # if product is palindrome and is greater than last recorded palindrome\n",
    "                if isPalindrome(i * j) and i * j > palindrome:\n",
    "                    palindrome = i * j\n",
    "        return palindrome;\n",
    "print (VerifyLargestPalindrome(1))\n",
    "print (VerifyLargestPalindrome(2))\n",
    "print (VerifyLargestPalindrome(3))\n",
    "print (VerifyLargestPalindrome(4))\n",
    "print (VerifyLargestPalindrome(5))\n",
    "print (VerifyLargestPalindrome(6))\n",
    "print (VerifyLargestPalindrome(7))\n",
    "print (VerifyLargestPalindrome(8))\n",
    "print (VerifyLargestPalindrome(9))\n",
    "print (VerifyLargestPalindrome(10))"
   ]
  },
  {
   "cell_type": "code",
   "execution_count": 3,
   "metadata": {},
   "outputs": [
    {
     "name": "stdout",
     "output_type": "stream",
     "text": [
      "9\n",
      "0\n",
      "999\n",
      "9009\n",
      "99999\n",
      "906609\n",
      "9999999\n",
      "99000099\n",
      "999969999\n",
      "9966006699\n",
      "99999999999\n",
      "999000000999\n",
      "9999998999999\n",
      "99956644665999\n",
      "999999999999999\n",
      "9999000000009999\n",
      "99999999799999999\n",
      "999900665566009999\n",
      "9999999997999999999\n",
      "99999834000043899999\n",
      "999999999999999999999\n"
     ]
    }
   ],
   "source": [
    "print(3*3) #(3)×(3)\n",
    "print(0)\n",
    "print(27*37) #(3^3)×(37)\n",
    "print(99*91) #(3^2×11)×(7×13)\n",
    "print(271*369) #(271)×(3^2×41)\n",
    "print(913*993) #(11×83)×(3×331)\n",
    "print(2151*4649) #(3^2×239)×(4649)\n",
    "print(9999*9901) #(3^2×11×101)×(9901)\n",
    "print(19999*50001) #(7×2857)×(3×7×2381)\n",
    "print(99979*99681) #(11×61×149)×(3×149×223)\n",
    "print(194841*513239) #(3^2×21649)×(513239)\n",
    "print(999999*999001) #(3^3×7×11×13×37)×(19×52579)\n",
    "print(2893921*3455519) #(131×22091)×(3455519)\n",
    "print(9997647*9998017) #(3×11×302959)×(9998017)\n",
    "print(12744317*78466347) #(31×37×41×271)×(3^3×2906161)\n",
    "print(99999999*99990001) #(3^2×11×73×101×137)×(99990001)\n",
    "print(126227113*792222823) #(263×479951)×(7×79×1432591)\n",
    "print(999920317*999980347) #(11×90901847)×(127×2549×3089)\n",
    "print(2441330309*4096127411) #(11×113×1964063)×(43×95258777)\n",
    "print(9999996699*9999986701) #(3×7×11×53×163×5011)×(33967×294403)\n",
    "print(19845575559*50389065161) #(3^3×37×43×239×1933) x (4649×10838689)"
   ]
  }
 ],
 "metadata": {
  "kernelspec": {
   "display_name": "Python 3",
   "language": "python",
   "name": "python3"
  },
  "language_info": {
   "codemirror_mode": {
    "name": "ipython",
    "version": 3
   },
   "file_extension": ".py",
   "mimetype": "text/x-python",
   "name": "python",
   "nbconvert_exporter": "python",
   "pygments_lexer": "ipython3",
   "version": "3.7.3"
  }
 },
 "nbformat": 4,
 "nbformat_minor": 2
}
