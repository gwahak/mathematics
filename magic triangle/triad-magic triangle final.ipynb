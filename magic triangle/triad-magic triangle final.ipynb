{
 "cells": [
  {
   "cell_type": "markdown",
   "metadata": {},
   "source": [
    "# triad-magic triangle"
   ]
  },
  {
   "cell_type": "code",
   "execution_count": null,
   "metadata": {},
   "outputs": [],
   "source": []
  },
  {
   "cell_type": "code",
   "execution_count": 7,
   "metadata": {},
   "outputs": [],
   "source": [
    "import itertools"
   ]
  },
  {
   "cell_type": "markdown",
   "metadata": {},
   "source": [
    "# triad-magic triangle of order 4"
   ]
  },
  {
   "cell_type": "code",
   "execution_count": null,
   "metadata": {},
   "outputs": [],
   "source": []
  },
  {
   "cell_type": "code",
   "execution_count": 5,
   "metadata": {},
   "outputs": [
    {
     "name": "stdout",
     "output_type": "stream",
     "text": [
      "(0, 5, 9, 6, 3, 2, 1, 7, 4, 8) 14\n",
      "(0, 9, 5, 2, 3, 6, 8, 4, 7, 1) 14\n",
      "(1, 5, 7, 2, 6, 0, 8, 3, 4, 9) 13\n",
      "(1, 6, 7, 5, 3, 4, 0, 9, 2, 8) 14\n",
      "(1, 7, 5, 0, 6, 2, 9, 4, 3, 8) 13\n",
      "(1, 7, 6, 4, 3, 5, 8, 2, 9, 0) 14\n",
      "(8, 2, 3, 5, 6, 4, 1, 7, 0, 9) 13\n",
      "(8, 2, 4, 9, 3, 7, 0, 5, 6, 1) 14\n",
      "(8, 3, 2, 4, 6, 5, 9, 0, 7, 1) 13\n",
      "(8, 4, 2, 7, 3, 9, 1, 6, 5, 0) 14\n",
      "(9, 0, 4, 7, 6, 3, 1, 5, 2, 8) 13\n",
      "(9, 4, 0, 3, 6, 7, 8, 2, 5, 1) 13\n",
      "12\n"
     ]
    }
   ],
   "source": [
    "i=0\n",
    "for A in itertools.permutations(range(10), 10):\n",
    "    if A[4]%3==0:\n",
    "        hap=(45-A[4])//3\n",
    "        if A[0]+A[1]+A[2]==hap:\n",
    "            if A[3]+A[6]+A[7]==hap:\n",
    "                if A[5]+A[8]+A[9]==hap:\n",
    "                    if A[1]+A[3]+A[4]==hap:\n",
    "                        if A[2]+A[4]+A[5]==hap:\n",
    "                            if A[4]+A[7]+A[8]==hap:\n",
    "                                print(A,hap)\n",
    "                                i+=1\n",
    "print(i)"
   ]
  },
  {
   "cell_type": "markdown",
   "metadata": {},
   "source": [
    "#   0\n",
    "#  5 9\n",
    "# 6 3 2\n",
    "# 1 7 4 8"
   ]
  },
  {
   "cell_type": "code",
   "execution_count": null,
   "metadata": {},
   "outputs": [],
   "source": []
  },
  {
   "cell_type": "markdown",
   "metadata": {},
   "source": [
    "# triad-magic triangle of order 5"
   ]
  },
  {
   "cell_type": "code",
   "execution_count": 13,
   "metadata": {},
   "outputs": [
    {
     "name": "stdout",
     "output_type": "stream",
     "text": [
      "0\n"
     ]
    }
   ],
   "source": [
    "i=0\n",
    "for B in itertools.permutations(range(0,15), 6):\n",
    "    if B[0]+B[1]+B[2]==25 and B[0]>B[1] and B[1]>B[2]:\n",
    "        if B[3]+B[4]+B[5]==20:\n",
    "            C=[0,0,0,0,0,0]\n",
    "            C[0]=20-(B[0]+B[5])\n",
    "            C[1]=20-(B[1]+B[5])\n",
    "            C[2]=20-(B[1]+B[3])\n",
    "            C[3]=20-(B[2]+B[3])\n",
    "            C[4]=20-(B[2]+B[4])\n",
    "            C[5]=20-(B[0]+B[4])\n",
    "            if len(set(C) | set(B))==12 and min(C)>=0 and max(C)<=15:\n",
    "                D=[0,0,0]\n",
    "                D[0]=20-C[0]-C[1]\n",
    "                D[1]=20-C[2]-C[3]\n",
    "                D[2]=20-C[4]-C[5]\n",
    "                if len(set(C) | set(B) | set(D))==15 and min(D)>=0 and max(D)<=15:\n",
    "                    print(B,C,D)\n",
    "                    i+=1    \n",
    "print(i)"
   ]
  },
  {
   "cell_type": "code",
   "execution_count": 14,
   "metadata": {},
   "outputs": [
    {
     "name": "stdout",
     "output_type": "stream",
     "text": [
      "0\n"
     ]
    }
   ],
   "source": [
    "i=0\n",
    "for B in itertools.permutations(range(0,15), 6):\n",
    "    if B[0]+B[1]+B[2]==29 and B[0]>B[1] and B[1]>B[2]:\n",
    "        if B[3]+B[4]+B[5]==19:\n",
    "            C=[0,0,0,0,0,0]\n",
    "            C[0]=19-(B[0]+B[5])\n",
    "            C[1]=19-(B[1]+B[5])\n",
    "            C[2]=19-(B[1]+B[3])\n",
    "            C[3]=19-(B[2]+B[3])\n",
    "            C[4]=19-(B[2]+B[4])\n",
    "            C[5]=19-(B[0]+B[4])\n",
    "            if len(set(C) | set(B))==12 and min(C)>=0 and max(C)<=15:\n",
    "                D=[0,0,0]\n",
    "                D[0]=19-C[0]-C[1]\n",
    "                D[1]=19-C[2]-C[3]\n",
    "                D[2]=19-C[4]-C[5]\n",
    "                if len(set(C) | set(B) | set(D))==15 and min(D)>=0 and max(D)<=15:\n",
    "                    print(B,C,D)\n",
    "                    i+=1    \n",
    "print(i)"
   ]
  },
  {
   "cell_type": "code",
   "execution_count": 15,
   "metadata": {},
   "outputs": [
    {
     "name": "stdout",
     "output_type": "stream",
     "text": [
      "0\n"
     ]
    }
   ],
   "source": [
    "i=0\n",
    "for B in itertools.permutations(range(0,15), 6):\n",
    "    if B[0]+B[1]+B[2]==21 and B[0]>B[1] and B[1]>B[2]:\n",
    "        if B[3]+B[4]+B[5]==21:\n",
    "            C=[0,0,0,0,0,0]\n",
    "            C[0]=21-(B[0]+B[5])\n",
    "            C[1]=21-(B[1]+B[5])\n",
    "            C[2]=21-(B[1]+B[3])\n",
    "            C[3]=21-(B[2]+B[3])\n",
    "            C[4]=21-(B[2]+B[4])\n",
    "            C[5]=21-(B[0]+B[4])\n",
    "            if len(set(C) | set(B))==12 and min(C)>=0 and max(C)<=15:\n",
    "                D=[0,0,0]\n",
    "                D[0]=21-C[0]-C[1]\n",
    "                D[1]=21-C[2]-C[3]\n",
    "                D[2]=21-C[4]-C[5]\n",
    "                if len(set(C) | set(B) | set(D))==15 and min(D)>=0 and max(D)<=15:\n",
    "                    print(B,C,D)\n",
    "                    i+=1    \n",
    "print(i)"
   ]
  },
  {
   "cell_type": "markdown",
   "metadata": {},
   "source": [
    "# row-magic triangle of order 4"
   ]
  },
  {
   "cell_type": "code",
   "execution_count": 16,
   "metadata": {},
   "outputs": [
    {
     "name": "stdout",
     "output_type": "stream",
     "text": [
      "(0, 5, 9, 4, 3, 7, 8, 2, 6, 1) 14 11\n",
      "(0, 9, 5, 7, 3, 4, 1, 6, 2, 8) 14 11\n",
      "(1, 5, 7, 4, 6, 3, 9, 0, 2, 8) 13 7\n",
      "(1, 6, 7, 2, 3, 9, 8, 4, 5, 0) 14 11\n",
      "(1, 7, 5, 3, 6, 4, 8, 2, 0, 9) 13 7\n",
      "(1, 7, 6, 9, 3, 2, 0, 5, 4, 8) 14 11\n",
      "(8, 2, 3, 0, 6, 7, 9, 4, 5, 1) 13 7\n",
      "(8, 2, 4, 6, 3, 5, 1, 7, 9, 0) 14 11\n",
      "(8, 3, 2, 7, 6, 0, 1, 5, 4, 9) 13 7\n",
      "(8, 4, 2, 5, 3, 6, 0, 9, 7, 1) 14 11\n",
      "(9, 0, 4, 2, 6, 5, 8, 3, 7, 1) 13 7\n",
      "(9, 4, 0, 5, 6, 2, 1, 7, 3, 8) 13 7\n",
      "12\n"
     ]
    }
   ],
   "source": [
    "i=0\n",
    "for C in itertools.permutations(range(10), 10):\n",
    "    if C[4]%3==0:\n",
    "        hap=(45-C[4])//3\n",
    "        if C[0]+C[1]+C[2]==hap:\n",
    "            if C[3]+C[6]+C[7]==hap:\n",
    "                if C[5]+C[8]+C[9]==hap:\n",
    "                    if C[1]+C[8]==C[3]+C[5]:\n",
    "                        if C[3]+C[5]==C[2]+C[7]:\n",
    "                                print(C,hap,C[2]+C[7])\n",
    "                                i+=1\n",
    "print(i)"
   ]
  },
  {
   "cell_type": "markdown",
   "metadata": {},
   "source": [
    "#    0\n",
    "#   5 9\n",
    "#  4 3 7\n",
    "# 8 2 6 1"
   ]
  },
  {
   "cell_type": "code",
   "execution_count": null,
   "metadata": {},
   "outputs": [],
   "source": []
  }
 ],
 "metadata": {
  "kernelspec": {
   "display_name": "Python 3",
   "language": "python",
   "name": "python3"
  },
  "language_info": {
   "codemirror_mode": {
    "name": "ipython",
    "version": 3
   },
   "file_extension": ".py",
   "mimetype": "text/x-python",
   "name": "python",
   "nbconvert_exporter": "python",
   "pygments_lexer": "ipython3",
   "version": "3.7.6"
  }
 },
 "nbformat": 4,
 "nbformat_minor": 4
}
