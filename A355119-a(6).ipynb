{
 "cells": [
  {
   "cell_type": "markdown",
   "metadata": {},
   "source": [
    "# A355119: a(n) is the number of n-th order magic triangles composed of the numbers from 1 to n(n+1)/2 which the sum of k-th row and (n-k+1)-th row is same for all k and all three directions, counted up to rotations and reflections."
   ]
  },
  {
   "cell_type": "code",
   "execution_count": 1,
   "metadata": {},
   "outputs": [],
   "source": [
    "import itertools\n",
    "import numpy as np"
   ]
  },
  {
   "cell_type": "markdown",
   "metadata": {},
   "source": [
    "## Firstly, arrange three corner numbers and central six numbers to calculate a(6)"
   ]
  },
  {
   "cell_type": "code",
   "execution_count": null,
   "metadata": {},
   "outputs": [],
   "source": []
  },
  {
   "cell_type": "code",
   "execution_count": null,
   "metadata": {},
   "outputs": [],
   "source": []
  },
  {
   "cell_type": "code",
   "execution_count": null,
   "metadata": {},
   "outputs": [],
   "source": []
  },
  {
   "cell_type": "code",
   "execution_count": null,
   "metadata": {},
   "outputs": [],
   "source": []
  },
  {
   "cell_type": "code",
   "execution_count": null,
   "metadata": {},
   "outputs": [],
   "source": []
  },
  {
   "cell_type": "code",
   "execution_count": 7,
   "metadata": {},
   "outputs": [],
   "source": [
    "#        E2\n",
    "#      D1 D2\n",
    "#     C1 B2 C2\n",
    "#   C0 A1 A0 C3\n",
    "# D0 B0 A2 B1 D3\n",
    "#E0 D5 C5 C4 D4 E1"
   ]
  },
  {
   "cell_type": "code",
   "execution_count": null,
   "metadata": {},
   "outputs": [],
   "source": []
  },
  {
   "cell_type": "code",
   "execution_count": 14,
   "metadata": {},
   "outputs": [
    {
     "name": "stdout",
     "output_type": "stream",
     "text": [
      "98000 293930\n"
     ]
    }
   ],
   "source": [
    "i=0\n",
    "j=0\n",
    "k=0\n",
    "for ABE in itertools.combinations(set(range(21)),9):\n",
    "    j+=1\n",
    "    if np.sum(ABE)%3 ==0:\n",
    "        i+=1\n",
    "        sumE=70-(210-np.sum(ABE))//3\n",
    "print(i,j)"
   ]
  },
  {
   "cell_type": "code",
   "execution_count": 17,
   "metadata": {},
   "outputs": [
    {
     "name": "stdout",
     "output_type": "stream",
     "text": [
      "98000 293930 357702\n"
     ]
    }
   ],
   "source": [
    "i=0\n",
    "j=0\n",
    "k=0\n",
    "for ABE in itertools.combinations(set(range(21)),9):\n",
    "    j+=1\n",
    "    if np.sum(ABE)%3 ==0:\n",
    "        i+=1\n",
    "        sumE=70-(210-np.sum(ABE))//3\n",
    "        for E in itertools.combinations(set(ABE),3):\n",
    "            if sumE==np.sum(E):\n",
    "                k+=1\n",
    "print(i,j,k)"
   ]
  },
  {
   "cell_type": "code",
   "execution_count": 18,
   "metadata": {},
   "outputs": [
    {
     "name": "stdout",
     "output_type": "stream",
     "text": [
      "98000 293930 357702\n"
     ]
    }
   ],
   "source": [
    "print(i,j,k)"
   ]
  },
  {
   "cell_type": "code",
   "execution_count": null,
   "metadata": {},
   "outputs": [],
   "source": [
    "import time"
   ]
  },
  {
   "cell_type": "code",
   "execution_count": 19,
   "metadata": {},
   "outputs": [
    {
     "name": "stdout",
     "output_type": "stream",
     "text": [
      "98000 293930 357702\n",
      "38.120134592056274\n"
     ]
    }
   ],
   "source": [
    "i=0\n",
    "j=0\n",
    "k=0\n",
    "a=time.time()\n",
    "for ABE in itertools.combinations(set(range(21)),9):\n",
    "    j+=1\n",
    "    if np.sum(ABE)%3 ==0:\n",
    "        i+=1\n",
    "        sumE=70-(210-np.sum(ABE))//3\n",
    "        for E in itertools.combinations(set(ABE),3):\n",
    "            if sumE==np.sum(E):\n",
    "                k+=1\n",
    "b=time.time()\n",
    "print(i,j,k)\n",
    "print(b-a)"
   ]
  },
  {
   "cell_type": "code",
   "execution_count": 48,
   "metadata": {},
   "outputs": [
    {
     "name": "stdout",
     "output_type": "stream",
     "text": [
      "98000 293930 357702 924465536\n",
      "9308.72751379013\n"
     ]
    }
   ],
   "source": [
    "i=0\n",
    "j=0\n",
    "k=0\n",
    "l=0\n",
    "a=time.time()\n",
    "for ABE in itertools.combinations(set(range(21)),9):\n",
    "    j+=1\n",
    "    if np.sum(ABE)%3 ==0:\n",
    "        i+=1\n",
    "        sumE=70-(210-np.sum(ABE))//3\n",
    "        for E in itertools.combinations(set(ABE),3):\n",
    "            if sumE==np.sum(E):\n",
    "                k+=1\n",
    "                for A in itertools.combinations(set(ABE)-set(E),3):\n",
    "                    for B in itertools.permutations(set(ABE)-set(E)-set(A),3):\n",
    "                        AB0=A[1]+A[2]+B[0]\n",
    "                        AB1=B[1]+A[2]+A[0]\n",
    "                        AB2=A[1]+B[2]+A[0]\n",
    "                        C01=(70-AB0-AB1+AB2)/2\n",
    "                        C23=(70+AB0-AB1-AB2)/2\n",
    "                        C45=(70-AB0+AB1-AB2)/2\n",
    "                        if C01==int(C01):\n",
    "                            if C23==int(C23):\n",
    "                                if C45==int(C45):\n",
    "                                    #print(\"hello world\")\n",
    "                                    CDs=set(range(21))-set(ABE)\n",
    "                                    for C0 in CDs:\n",
    "                                        C1=int(C01)-C0\n",
    "                                        if C1 in CDs:\n",
    "                                            if C0!=C1:\n",
    "                                                for C2 in CDs-set([C0,C1]):\n",
    "                                                    C3=int(C23)-C2\n",
    "                                                    if C3 in CDs-set([C0,C1]):\n",
    "                                                        if C3!=C2:\n",
    "                                                            for C4 in CDs-set([C0,C1,C2,C3]):\n",
    "                                                                C5=int(C45)-C4\n",
    "                                                                if C5 in CDs-set([C0,C1,C2,C3]):\n",
    "                                                                    if C5!=C4:\n",
    "                                                                        C=[C0,C1,C2,C3,C4,C5]\n",
    "                                                                        Ds=CDs-set([C0,C1,C2,C3,C4,C5])\n",
    "                                                                        D01=70-sumE-int(C01)\n",
    "                                                                        D23=70-sumE-int(C23)                                                \n",
    "                                                                        D45=70-sumE-int(C45)\n",
    "                                                                        for D0 in Ds:\n",
    "                                                                            D1=D01-D0\n",
    "                                                                            if D1 in Ds:\n",
    "                                                                                if D0!=D1:\n",
    "                                                                                    for D2 in Ds-set([D0,D1]):\n",
    "                                                                                        D3=D23-D2\n",
    "                                                                                        if D3 in Ds-set([D0,D1]):\n",
    "                                                                                            if D3!=D2:\n",
    "                                                                                                for D4 in Ds-set([D0,D1,D2,D3]):\n",
    "                                                                                                    D5=D45-D4\n",
    "                                                                                                    if D5 in Ds-set([D0,D1,D2,D3]):\n",
    "                                                                                                        if D5!=D4:\n",
    "                                                                                                            D=[D0,D1,D2,D3,D4,D5]\n",
    "                                                                                                            l+=1\n",
    "                                                                                                            #print(A,B,C,D,E)\n",
    "b=time.time()\n",
    "print(i,j,k,l)\n",
    "print(b-a)"
   ]
  },
  {
   "cell_type": "code",
   "execution_count": null,
   "metadata": {},
   "outputs": [],
   "source": []
  },
  {
   "cell_type": "code",
   "execution_count": 52,
   "metadata": {},
   "outputs": [
    {
     "name": "stdout",
     "output_type": "stream",
     "text": [
      "98000 293930 357702 924465536\n"
     ]
    }
   ],
   "source": [
    "print(i,j,k,l)"
   ]
  },
  {
   "cell_type": "code",
   "execution_count": null,
   "metadata": {},
   "outputs": [],
   "source": []
  },
  {
   "cell_type": "code",
   "execution_count": null,
   "metadata": {},
   "outputs": [],
   "source": [
    "#        E2\n",
    "#      D1 D2\n",
    "#     C1 B2 C2\n",
    "#   C0 A1 A0 C3\n",
    "# D0 B0 A2 B1 D3\n",
    "#E0 D5 C5 C4 D4 E1"
   ]
  },
  {
   "cell_type": "code",
   "execution_count": null,
   "metadata": {},
   "outputs": [],
   "source": []
  },
  {
   "cell_type": "code",
   "execution_count": null,
   "metadata": {},
   "outputs": [],
   "source": []
  },
  {
   "cell_type": "code",
   "execution_count": 49,
   "metadata": {
    "scrolled": true
   },
   "outputs": [
    {
     "data": {
      "text/plain": [
       "5546793216"
      ]
     },
     "execution_count": 49,
     "metadata": {},
     "output_type": "execute_result"
    }
   ],
   "source": [
    "6*924465536"
   ]
  },
  {
   "cell_type": "code",
   "execution_count": 9,
   "metadata": {},
   "outputs": [
    {
     "name": "stdout",
     "output_type": "stream",
     "text": [
      "for k>=3, a(n) are multiple of 6 because the rotation of only three corners does not affect the sum of 1-st row and n-th row.\n"
     ]
    }
   ],
   "source": [
    "print(\"for k>=3, a(n) are multiple of 6 because the rotation of only three corners does not affect the sum of 1-st row and n-th row.\")"
   ]
  },
  {
   "cell_type": "code",
   "execution_count": 50,
   "metadata": {},
   "outputs": [
    {
     "name": "stdout",
     "output_type": "stream",
     "text": [
      "therefore, a(6) is 6*924465536=5546793216\n"
     ]
    }
   ],
   "source": [
    "print(\"therefore, a(6) is 6*924465536=5546793216\")"
   ]
  },
  {
   "cell_type": "code",
   "execution_count": null,
   "metadata": {},
   "outputs": [],
   "source": []
  },
  {
   "cell_type": "code",
   "execution_count": null,
   "metadata": {},
   "outputs": [],
   "source": []
  },
  {
   "cell_type": "code",
   "execution_count": null,
   "metadata": {},
   "outputs": [],
   "source": []
  }
 ],
 "metadata": {
  "kernelspec": {
   "display_name": "Python 3",
   "language": "python",
   "name": "python3"
  },
  "language_info": {
   "codemirror_mode": {
    "name": "ipython",
    "version": 3
   },
   "file_extension": ".py",
   "mimetype": "text/x-python",
   "name": "python",
   "nbconvert_exporter": "python",
   "pygments_lexer": "ipython3",
   "version": "3.7.15"
  }
 },
 "nbformat": 4,
 "nbformat_minor": 4
}
